{
 "cells": [
  {
   "cell_type": "markdown",
   "id": "0876a23c",
   "metadata": {},
   "source": [
    "# Song Recommendations"
   ]
  },
  {
   "cell_type": "markdown",
   "id": "c7f74b10",
   "metadata": {},
   "source": [
    "추준호(20224224)"
   ]
  },
  {
   "cell_type": "markdown",
   "id": "0b27f4c0",
   "metadata": {},
   "source": [
    "Source: https://github.com/jalammar/jalammar.github.io/blob/master/notebooks/nlp/02_Song_Embeddings.ipynb"
   ]
  },
  {
   "cell_type": "markdown",
   "id": "cef0d9be",
   "metadata": {},
   "source": [
    "## Import data"
   ]
  },
  {
   "cell_type": "code",
   "execution_count": 2,
   "id": "a5513fda",
   "metadata": {},
   "outputs": [],
   "source": [
    "import requests"
   ]
  },
  {
   "cell_type": "code",
   "execution_count": 3,
   "id": "12088b76",
   "metadata": {},
   "outputs": [],
   "source": [
    "url = 'https://storage.googleapis.com/maps-premium/dataset/yes_complete/train.txt'"
   ]
  },
  {
   "cell_type": "code",
   "execution_count": 5,
   "id": "79743559",
   "metadata": {},
   "outputs": [],
   "source": [
    "resp = requests.get(url)"
   ]
  },
  {
   "cell_type": "code",
   "execution_count": 8,
   "id": "394378ab",
   "metadata": {},
   "outputs": [],
   "source": [
    "lines = resp.text.split('\\n')[2:]"
   ]
  },
  {
   "cell_type": "code",
   "execution_count": 9,
   "id": "5ef89b3c",
   "metadata": {},
   "outputs": [
    {
     "data": {
      "text/plain": [
       "11138"
      ]
     },
     "execution_count": 9,
     "metadata": {},
     "output_type": "execute_result"
    }
   ],
   "source": [
    "len(lines)"
   ]
  },
  {
   "cell_type": "code",
   "execution_count": 10,
   "id": "d73367a5",
   "metadata": {},
   "outputs": [
    {
     "data": {
      "text/plain": [
       "'0 1 2 3 4 5 6 7 8 9 10 11 12 13 14 15 16 17 18 19 20 21 22 23 24 25 26 27 28 29 30 31 32 33 34 35 36 37 38 39 40 41 2 42 43 44 45 46 47 48 20 49 8 50 51 52 53 54 55 56 57 25 58 59 60 61 62 3 63 64 65 66 46 47 67 2 48 68 69 70 57 50 71 72 53 73 25 74 59 20 46 75 76 77 59 20 43 '"
      ]
     },
     "execution_count": 10,
     "metadata": {},
     "output_type": "execute_result"
    }
   ],
   "source": [
    "lines[0]"
   ]
  },
  {
   "cell_type": "code",
   "execution_count": 15,
   "id": "2ab4af53",
   "metadata": {},
   "outputs": [
    {
     "data": {
      "text/plain": [
       "11138"
      ]
     },
     "execution_count": 15,
     "metadata": {},
     "output_type": "execute_result"
    }
   ],
   "source": [
    "playlists = [x.strip().split() for x in lines]\n",
    "len(playlists)"
   ]
  },
  {
   "cell_type": "code",
   "execution_count": 16,
   "id": "d5704e84",
   "metadata": {},
   "outputs": [
    {
     "data": {
      "text/plain": [
       "11088"
      ]
     },
     "execution_count": 16,
     "metadata": {},
     "output_type": "execute_result"
    }
   ],
   "source": [
    "playlists = [x for x in playlists if len(x) > 1]\n",
    "len(playlists)"
   ]
  },
  {
   "cell_type": "markdown",
   "id": "e109d18f",
   "metadata": {},
   "source": [
    "## Training the Word2Vec Model"
   ]
  },
  {
   "cell_type": "code",
   "execution_count": 17,
   "id": "db0adc63",
   "metadata": {},
   "outputs": [],
   "source": [
    "from gensim.models import Word2Vec"
   ]
  },
  {
   "cell_type": "code",
   "execution_count": 18,
   "id": "52d7ccac",
   "metadata": {},
   "outputs": [],
   "source": [
    "model = Word2Vec(\n",
    "    playlists, vector_size=32, window=20, negative=50, min_count=1, workers=4\n",
    ")"
   ]
  },
  {
   "cell_type": "code",
   "execution_count": null,
   "id": "eeba8642",
   "metadata": {},
   "outputs": [],
   "source": []
  },
  {
   "cell_type": "markdown",
   "id": "db605e5b",
   "metadata": {},
   "source": [
    "## Song Title and Artist File"
   ]
  },
  {
   "cell_type": "code",
   "execution_count": 19,
   "id": "e62632a2",
   "metadata": {},
   "outputs": [],
   "source": [
    "url = 'https://storage.googleapis.com/maps-premium/dataset/yes_complete/song_hash.txt'"
   ]
  },
  {
   "cell_type": "code",
   "execution_count": 20,
   "id": "e9949cbe",
   "metadata": {},
   "outputs": [],
   "source": [
    "resp = requests.get(url)"
   ]
  },
  {
   "cell_type": "code",
   "execution_count": 21,
   "id": "1daf6582",
   "metadata": {},
   "outputs": [
    {
     "data": {
      "text/plain": [
       "[['0 ', 'Gucci Time (w\\\\/ Swizz Beatz)', 'Gucci Mane'],\n",
       " ['1 ', 'Aston Martin Music (w\\\\/ Drake & Chrisette Michelle)', 'Rick Ross'],\n",
       " ['2 ', 'Get Back Up (w\\\\/ Chris Brown)', 'T.I.']]"
      ]
     },
     "execution_count": 21,
     "metadata": {},
     "output_type": "execute_result"
    }
   ],
   "source": [
    "songs = resp.text.split('\\n')\n",
    "songs = [x.strip().split('\\t') for x in songs]\n",
    "songs[:3]"
   ]
  },
  {
   "cell_type": "code",
   "execution_count": 22,
   "id": "a6613a62",
   "metadata": {},
   "outputs": [],
   "source": [
    "import pandas as pd"
   ]
  },
  {
   "cell_type": "code",
   "execution_count": 23,
   "id": "7ee1e194",
   "metadata": {},
   "outputs": [],
   "source": [
    "df_songs = pd.DataFrame(data=songs, columns =['id','title','artist'])"
   ]
  },
  {
   "cell_type": "code",
   "execution_count": 24,
   "id": "787a7321",
   "metadata": {},
   "outputs": [
    {
     "data": {
      "text/html": [
       "<div>\n",
       "<style scoped>\n",
       "    .dataframe tbody tr th:only-of-type {\n",
       "        vertical-align: middle;\n",
       "    }\n",
       "\n",
       "    .dataframe tbody tr th {\n",
       "        vertical-align: top;\n",
       "    }\n",
       "\n",
       "    .dataframe thead th {\n",
       "        text-align: right;\n",
       "    }\n",
       "</style>\n",
       "<table border=\"1\" class=\"dataframe\">\n",
       "  <thead>\n",
       "    <tr style=\"text-align: right;\">\n",
       "      <th></th>\n",
       "      <th>id</th>\n",
       "      <th>title</th>\n",
       "      <th>artist</th>\n",
       "    </tr>\n",
       "  </thead>\n",
       "  <tbody>\n",
       "    <tr>\n",
       "      <th>0</th>\n",
       "      <td>0</td>\n",
       "      <td>Gucci Time (w\\/ Swizz Beatz)</td>\n",
       "      <td>Gucci Mane</td>\n",
       "    </tr>\n",
       "    <tr>\n",
       "      <th>1</th>\n",
       "      <td>1</td>\n",
       "      <td>Aston Martin Music (w\\/ Drake &amp; Chrisette Mich...</td>\n",
       "      <td>Rick Ross</td>\n",
       "    </tr>\n",
       "    <tr>\n",
       "      <th>2</th>\n",
       "      <td>2</td>\n",
       "      <td>Get Back Up (w\\/ Chris Brown)</td>\n",
       "      <td>T.I.</td>\n",
       "    </tr>\n",
       "    <tr>\n",
       "      <th>3</th>\n",
       "      <td>3</td>\n",
       "      <td>Hot Toddy (w\\/ Jay-Z &amp; Ester Dean)</td>\n",
       "      <td>Usher</td>\n",
       "    </tr>\n",
       "    <tr>\n",
       "      <th>4</th>\n",
       "      <td>4</td>\n",
       "      <td>Whip My Hair</td>\n",
       "      <td>Willow</td>\n",
       "    </tr>\n",
       "    <tr>\n",
       "      <th>...</th>\n",
       "      <td>...</td>\n",
       "      <td>...</td>\n",
       "      <td>...</td>\n",
       "    </tr>\n",
       "    <tr>\n",
       "      <th>75258</th>\n",
       "      <td>75258</td>\n",
       "      <td>USA Today</td>\n",
       "      <td>Alan Jackson</td>\n",
       "    </tr>\n",
       "    <tr>\n",
       "      <th>75259</th>\n",
       "      <td>75259</td>\n",
       "      <td>Superstar</td>\n",
       "      <td>Raul Malo</td>\n",
       "    </tr>\n",
       "    <tr>\n",
       "      <th>75260</th>\n",
       "      <td>75260</td>\n",
       "      <td>Romancin' The Blues</td>\n",
       "      <td>Giacomo Gates</td>\n",
       "    </tr>\n",
       "    <tr>\n",
       "      <th>75261</th>\n",
       "      <td>75261</td>\n",
       "      <td>Inner Change</td>\n",
       "      <td>The Jazzmasters</td>\n",
       "    </tr>\n",
       "    <tr>\n",
       "      <th>75262</th>\n",
       "      <td></td>\n",
       "      <td>None</td>\n",
       "      <td>None</td>\n",
       "    </tr>\n",
       "  </tbody>\n",
       "</table>\n",
       "<p>75263 rows × 3 columns</p>\n",
       "</div>"
      ],
      "text/plain": [
       "           id                                              title  \\\n",
       "0          0                        Gucci Time (w\\/ Swizz Beatz)   \n",
       "1          1   Aston Martin Music (w\\/ Drake & Chrisette Mich...   \n",
       "2          2                       Get Back Up (w\\/ Chris Brown)   \n",
       "3          3                  Hot Toddy (w\\/ Jay-Z & Ester Dean)   \n",
       "4          4                                        Whip My Hair   \n",
       "...       ...                                                ...   \n",
       "75258  75258                                           USA Today   \n",
       "75259  75259                                           Superstar   \n",
       "75260  75260                                 Romancin' The Blues   \n",
       "75261  75261                                        Inner Change   \n",
       "75262                                                       None   \n",
       "\n",
       "                artist  \n",
       "0           Gucci Mane  \n",
       "1            Rick Ross  \n",
       "2                 T.I.  \n",
       "3                Usher  \n",
       "4               Willow  \n",
       "...                ...  \n",
       "75258     Alan Jackson  \n",
       "75259        Raul Malo  \n",
       "75260    Giacomo Gates  \n",
       "75261  The Jazzmasters  \n",
       "75262             None  \n",
       "\n",
       "[75263 rows x 3 columns]"
      ]
     },
     "execution_count": 24,
     "metadata": {},
     "output_type": "execute_result"
    }
   ],
   "source": [
    "df_songs"
   ]
  },
  {
   "cell_type": "code",
   "execution_count": 25,
   "id": "551b1a60",
   "metadata": {},
   "outputs": [],
   "source": [
    "df_songs['id'] = df_songs['id'].apply(lambda x: x.strip())"
   ]
  },
  {
   "cell_type": "code",
   "execution_count": 26,
   "id": "aad1b6c4",
   "metadata": {},
   "outputs": [],
   "source": [
    "df_songs = df_songs.set_index('id')"
   ]
  },
  {
   "cell_type": "code",
   "execution_count": 27,
   "id": "bcefa5c5",
   "metadata": {},
   "outputs": [
    {
     "data": {
      "text/html": [
       "<div>\n",
       "<style scoped>\n",
       "    .dataframe tbody tr th:only-of-type {\n",
       "        vertical-align: middle;\n",
       "    }\n",
       "\n",
       "    .dataframe tbody tr th {\n",
       "        vertical-align: top;\n",
       "    }\n",
       "\n",
       "    .dataframe thead th {\n",
       "        text-align: right;\n",
       "    }\n",
       "</style>\n",
       "<table border=\"1\" class=\"dataframe\">\n",
       "  <thead>\n",
       "    <tr style=\"text-align: right;\">\n",
       "      <th></th>\n",
       "      <th>title</th>\n",
       "      <th>artist</th>\n",
       "    </tr>\n",
       "    <tr>\n",
       "      <th>id</th>\n",
       "      <th></th>\n",
       "      <th></th>\n",
       "    </tr>\n",
       "  </thead>\n",
       "  <tbody>\n",
       "    <tr>\n",
       "      <th>0</th>\n",
       "      <td>Gucci Time (w\\/ Swizz Beatz)</td>\n",
       "      <td>Gucci Mane</td>\n",
       "    </tr>\n",
       "    <tr>\n",
       "      <th>1</th>\n",
       "      <td>Aston Martin Music (w\\/ Drake &amp; Chrisette Mich...</td>\n",
       "      <td>Rick Ross</td>\n",
       "    </tr>\n",
       "    <tr>\n",
       "      <th>2</th>\n",
       "      <td>Get Back Up (w\\/ Chris Brown)</td>\n",
       "      <td>T.I.</td>\n",
       "    </tr>\n",
       "    <tr>\n",
       "      <th>3</th>\n",
       "      <td>Hot Toddy (w\\/ Jay-Z &amp; Ester Dean)</td>\n",
       "      <td>Usher</td>\n",
       "    </tr>\n",
       "    <tr>\n",
       "      <th>4</th>\n",
       "      <td>Whip My Hair</td>\n",
       "      <td>Willow</td>\n",
       "    </tr>\n",
       "    <tr>\n",
       "      <th>...</th>\n",
       "      <td>...</td>\n",
       "      <td>...</td>\n",
       "    </tr>\n",
       "    <tr>\n",
       "      <th>75258</th>\n",
       "      <td>USA Today</td>\n",
       "      <td>Alan Jackson</td>\n",
       "    </tr>\n",
       "    <tr>\n",
       "      <th>75259</th>\n",
       "      <td>Superstar</td>\n",
       "      <td>Raul Malo</td>\n",
       "    </tr>\n",
       "    <tr>\n",
       "      <th>75260</th>\n",
       "      <td>Romancin' The Blues</td>\n",
       "      <td>Giacomo Gates</td>\n",
       "    </tr>\n",
       "    <tr>\n",
       "      <th>75261</th>\n",
       "      <td>Inner Change</td>\n",
       "      <td>The Jazzmasters</td>\n",
       "    </tr>\n",
       "    <tr>\n",
       "      <th></th>\n",
       "      <td>None</td>\n",
       "      <td>None</td>\n",
       "    </tr>\n",
       "  </tbody>\n",
       "</table>\n",
       "<p>75263 rows × 2 columns</p>\n",
       "</div>"
      ],
      "text/plain": [
       "                                                   title           artist\n",
       "id                                                                       \n",
       "0                           Gucci Time (w\\/ Swizz Beatz)       Gucci Mane\n",
       "1      Aston Martin Music (w\\/ Drake & Chrisette Mich...        Rick Ross\n",
       "2                          Get Back Up (w\\/ Chris Brown)             T.I.\n",
       "3                     Hot Toddy (w\\/ Jay-Z & Ester Dean)            Usher\n",
       "4                                           Whip My Hair           Willow\n",
       "...                                                  ...              ...\n",
       "75258                                          USA Today     Alan Jackson\n",
       "75259                                          Superstar        Raul Malo\n",
       "75260                                Romancin' The Blues    Giacomo Gates\n",
       "75261                                       Inner Change  The Jazzmasters\n",
       "                                                    None             None\n",
       "\n",
       "[75263 rows x 2 columns]"
      ]
     },
     "execution_count": 27,
     "metadata": {},
     "output_type": "execute_result"
    }
   ],
   "source": [
    "df_songs"
   ]
  },
  {
   "cell_type": "code",
   "execution_count": 28,
   "id": "85fe5ad2",
   "metadata": {},
   "outputs": [
    {
     "data": {
      "text/html": [
       "<div>\n",
       "<style scoped>\n",
       "    .dataframe tbody tr th:only-of-type {\n",
       "        vertical-align: middle;\n",
       "    }\n",
       "\n",
       "    .dataframe tbody tr th {\n",
       "        vertical-align: top;\n",
       "    }\n",
       "\n",
       "    .dataframe thead th {\n",
       "        text-align: right;\n",
       "    }\n",
       "</style>\n",
       "<table border=\"1\" class=\"dataframe\">\n",
       "  <thead>\n",
       "    <tr style=\"text-align: right;\">\n",
       "      <th></th>\n",
       "      <th>title</th>\n",
       "      <th>artist</th>\n",
       "    </tr>\n",
       "    <tr>\n",
       "      <th>id</th>\n",
       "      <th></th>\n",
       "      <th></th>\n",
       "    </tr>\n",
       "  </thead>\n",
       "  <tbody>\n",
       "    <tr>\n",
       "      <th>4846</th>\n",
       "      <td>Don't Know Why</td>\n",
       "      <td>Norah Jones</td>\n",
       "    </tr>\n",
       "    <tr>\n",
       "      <th>4896</th>\n",
       "      <td>Chasing Pirates</td>\n",
       "      <td>Norah Jones</td>\n",
       "    </tr>\n",
       "    <tr>\n",
       "      <th>4905</th>\n",
       "      <td>Sunrise</td>\n",
       "      <td>Norah Jones</td>\n",
       "    </tr>\n",
       "    <tr>\n",
       "      <th>4978</th>\n",
       "      <td>Come Away With Me</td>\n",
       "      <td>Norah Jones</td>\n",
       "    </tr>\n",
       "    <tr>\n",
       "      <th>5126</th>\n",
       "      <td>Thinking About You</td>\n",
       "      <td>Norah Jones</td>\n",
       "    </tr>\n",
       "    <tr>\n",
       "      <th>7122</th>\n",
       "      <td>Tell Yer Mama</td>\n",
       "      <td>Norah Jones</td>\n",
       "    </tr>\n",
       "    <tr>\n",
       "      <th>11133</th>\n",
       "      <td>Turn Me On</td>\n",
       "      <td>Norah Jones</td>\n",
       "    </tr>\n",
       "    <tr>\n",
       "      <th>11155</th>\n",
       "      <td>Feelin' The Same Way</td>\n",
       "      <td>Norah Jones</td>\n",
       "    </tr>\n",
       "    <tr>\n",
       "      <th>12981</th>\n",
       "      <td>Be My Somebody</td>\n",
       "      <td>Norah Jones</td>\n",
       "    </tr>\n",
       "    <tr>\n",
       "      <th>13039</th>\n",
       "      <td>It's Gonna Be</td>\n",
       "      <td>Norah Jones</td>\n",
       "    </tr>\n",
       "    <tr>\n",
       "      <th>17893</th>\n",
       "      <td>Back To Manhattan</td>\n",
       "      <td>Norah Jones</td>\n",
       "    </tr>\n",
       "    <tr>\n",
       "      <th>20371</th>\n",
       "      <td>My Blue Heaven</td>\n",
       "      <td>Norah Jones</td>\n",
       "    </tr>\n",
       "    <tr>\n",
       "      <th>20378</th>\n",
       "      <td>The Nearness Of You</td>\n",
       "      <td>Norah Jones</td>\n",
       "    </tr>\n",
       "    <tr>\n",
       "      <th>22858</th>\n",
       "      <td>What Am I To You?</td>\n",
       "      <td>Norah Jones</td>\n",
       "    </tr>\n",
       "    <tr>\n",
       "      <th>23920</th>\n",
       "      <td>Cold Cold Heart</td>\n",
       "      <td>Norah Jones</td>\n",
       "    </tr>\n",
       "    <tr>\n",
       "      <th>23941</th>\n",
       "      <td>Those Sweet Words</td>\n",
       "      <td>Norah Jones</td>\n",
       "    </tr>\n",
       "    <tr>\n",
       "      <th>24064</th>\n",
       "      <td>In The Morning</td>\n",
       "      <td>Norah Jones</td>\n",
       "    </tr>\n",
       "    <tr>\n",
       "      <th>24179</th>\n",
       "      <td>I've Got To See You Again</td>\n",
       "      <td>Norah Jones</td>\n",
       "    </tr>\n",
       "    <tr>\n",
       "      <th>24191</th>\n",
       "      <td>Nightingale</td>\n",
       "      <td>Norah Jones</td>\n",
       "    </tr>\n",
       "    <tr>\n",
       "      <th>24200</th>\n",
       "      <td>Don't Miss You At All</td>\n",
       "      <td>Norah Jones</td>\n",
       "    </tr>\n",
       "    <tr>\n",
       "      <th>24779</th>\n",
       "      <td>American Anthem</td>\n",
       "      <td>Norah Jones</td>\n",
       "    </tr>\n",
       "    <tr>\n",
       "      <th>27367</th>\n",
       "      <td>One Flight Down</td>\n",
       "      <td>Norah Jones</td>\n",
       "    </tr>\n",
       "    <tr>\n",
       "      <th>35749</th>\n",
       "      <td>The Prettiest Thing</td>\n",
       "      <td>Norah Jones</td>\n",
       "    </tr>\n",
       "    <tr>\n",
       "      <th>36570</th>\n",
       "      <td>Not Too Late</td>\n",
       "      <td>Norah Jones</td>\n",
       "    </tr>\n",
       "    <tr>\n",
       "      <th>38858</th>\n",
       "      <td>Even Though</td>\n",
       "      <td>Norah Jones</td>\n",
       "    </tr>\n",
       "    <tr>\n",
       "      <th>46578</th>\n",
       "      <td>Shoot The Moon</td>\n",
       "      <td>Norah Jones</td>\n",
       "    </tr>\n",
       "    <tr>\n",
       "      <th>53276</th>\n",
       "      <td>Man Of The Hour</td>\n",
       "      <td>Norah Jones</td>\n",
       "    </tr>\n",
       "    <tr>\n",
       "      <th>56079</th>\n",
       "      <td>Creepin' In (w\\/ Dolly Parton)</td>\n",
       "      <td>Norah Jones</td>\n",
       "    </tr>\n",
       "    <tr>\n",
       "      <th>56088</th>\n",
       "      <td>Bull Rider (w\\/ Sasha Dobson)</td>\n",
       "      <td>Norah Jones</td>\n",
       "    </tr>\n",
       "    <tr>\n",
       "      <th>58738</th>\n",
       "      <td>The Long Way Home</td>\n",
       "      <td>Norah Jones</td>\n",
       "    </tr>\n",
       "    <tr>\n",
       "      <th>59277</th>\n",
       "      <td>I Think It's Going To Rain Today</td>\n",
       "      <td>Norah Jones</td>\n",
       "    </tr>\n",
       "    <tr>\n",
       "      <th>61848</th>\n",
       "      <td>Wake Me Up</td>\n",
       "      <td>Norah Jones</td>\n",
       "    </tr>\n",
       "    <tr>\n",
       "      <th>70796</th>\n",
       "      <td>Young Blood</td>\n",
       "      <td>Norah Jones</td>\n",
       "    </tr>\n",
       "    <tr>\n",
       "      <th>72009</th>\n",
       "      <td>The Sun Doesn't Like You</td>\n",
       "      <td>Norah Jones</td>\n",
       "    </tr>\n",
       "    <tr>\n",
       "      <th>72574</th>\n",
       "      <td>Stuck</td>\n",
       "      <td>Norah Jones</td>\n",
       "    </tr>\n",
       "    <tr>\n",
       "      <th>73934</th>\n",
       "      <td>Painter Song</td>\n",
       "      <td>Norah Jones</td>\n",
       "    </tr>\n",
       "  </tbody>\n",
       "</table>\n",
       "</div>"
      ],
      "text/plain": [
       "                                  title       artist\n",
       "id                                                  \n",
       "4846                     Don't Know Why  Norah Jones\n",
       "4896                    Chasing Pirates  Norah Jones\n",
       "4905                            Sunrise  Norah Jones\n",
       "4978                  Come Away With Me  Norah Jones\n",
       "5126                 Thinking About You  Norah Jones\n",
       "7122                      Tell Yer Mama  Norah Jones\n",
       "11133                        Turn Me On  Norah Jones\n",
       "11155              Feelin' The Same Way  Norah Jones\n",
       "12981                    Be My Somebody  Norah Jones\n",
       "13039                     It's Gonna Be  Norah Jones\n",
       "17893                 Back To Manhattan  Norah Jones\n",
       "20371                    My Blue Heaven  Norah Jones\n",
       "20378               The Nearness Of You  Norah Jones\n",
       "22858                 What Am I To You?  Norah Jones\n",
       "23920                   Cold Cold Heart  Norah Jones\n",
       "23941                 Those Sweet Words  Norah Jones\n",
       "24064                    In The Morning  Norah Jones\n",
       "24179         I've Got To See You Again  Norah Jones\n",
       "24191                       Nightingale  Norah Jones\n",
       "24200             Don't Miss You At All  Norah Jones\n",
       "24779                   American Anthem  Norah Jones\n",
       "27367                   One Flight Down  Norah Jones\n",
       "35749               The Prettiest Thing  Norah Jones\n",
       "36570                      Not Too Late  Norah Jones\n",
       "38858                       Even Though  Norah Jones\n",
       "46578                    Shoot The Moon  Norah Jones\n",
       "53276                   Man Of The Hour  Norah Jones\n",
       "56079    Creepin' In (w\\/ Dolly Parton)  Norah Jones\n",
       "56088     Bull Rider (w\\/ Sasha Dobson)  Norah Jones\n",
       "58738                 The Long Way Home  Norah Jones\n",
       "59277  I Think It's Going To Rain Today  Norah Jones\n",
       "61848                        Wake Me Up  Norah Jones\n",
       "70796                       Young Blood  Norah Jones\n",
       "72009          The Sun Doesn't Like You  Norah Jones\n",
       "72574                             Stuck  Norah Jones\n",
       "73934                      Painter Song  Norah Jones"
      ]
     },
     "execution_count": 28,
     "metadata": {},
     "output_type": "execute_result"
    }
   ],
   "source": [
    "df_songs[df_songs['artist'] == 'Norah Jones']"
   ]
  },
  {
   "cell_type": "code",
   "execution_count": 30,
   "id": "7dfea468",
   "metadata": {},
   "outputs": [
    {
     "data": {
      "text/html": [
       "<div>\n",
       "<style scoped>\n",
       "    .dataframe tbody tr th:only-of-type {\n",
       "        vertical-align: middle;\n",
       "    }\n",
       "\n",
       "    .dataframe tbody tr th {\n",
       "        vertical-align: top;\n",
       "    }\n",
       "\n",
       "    .dataframe thead th {\n",
       "        text-align: right;\n",
       "    }\n",
       "</style>\n",
       "<table border=\"1\" class=\"dataframe\">\n",
       "  <thead>\n",
       "    <tr style=\"text-align: right;\">\n",
       "      <th></th>\n",
       "      <th>title</th>\n",
       "      <th>artist</th>\n",
       "    </tr>\n",
       "    <tr>\n",
       "      <th>id</th>\n",
       "      <th></th>\n",
       "      <th></th>\n",
       "    </tr>\n",
       "  </thead>\n",
       "  <tbody>\n",
       "    <tr>\n",
       "      <th>1</th>\n",
       "      <td>Aston Martin Music (w\\/ Drake &amp; Chrisette Mich...</td>\n",
       "      <td>Rick Ross</td>\n",
       "    </tr>\n",
       "    <tr>\n",
       "      <th>10</th>\n",
       "      <td>Shake It</td>\n",
       "      <td>Elephant Man</td>\n",
       "    </tr>\n",
       "    <tr>\n",
       "      <th>100</th>\n",
       "      <td>I'm Yours</td>\n",
       "      <td>Jason Mraz</td>\n",
       "    </tr>\n",
       "  </tbody>\n",
       "</table>\n",
       "</div>"
      ],
      "text/plain": [
       "                                                 title        artist\n",
       "id                                                                  \n",
       "1    Aston Martin Music (w\\/ Drake & Chrisette Mich...     Rick Ross\n",
       "10                                            Shake It  Elephant Man\n",
       "100                                          I'm Yours    Jason Mraz"
      ]
     },
     "execution_count": 30,
     "metadata": {},
     "output_type": "execute_result"
    }
   ],
   "source": [
    "df_songs.iloc[[1,10,100]]"
   ]
  },
  {
   "cell_type": "markdown",
   "id": "3d0d8a69",
   "metadata": {},
   "source": [
    "# Recommend similar songs"
   ]
  },
  {
   "cell_type": "code",
   "execution_count": 31,
   "id": "8d924154",
   "metadata": {},
   "outputs": [],
   "source": [
    "song_id = '4846'"
   ]
  },
  {
   "cell_type": "code",
   "execution_count": 32,
   "id": "602539a1",
   "metadata": {},
   "outputs": [
    {
     "data": {
      "text/plain": [
       "title     Don't Know Why\n",
       "artist       Norah Jones\n",
       "Name: 4846, dtype: object"
      ]
     },
     "execution_count": 32,
     "metadata": {},
     "output_type": "execute_result"
    }
   ],
   "source": [
    "df_songs.loc[song_id]"
   ]
  },
  {
   "cell_type": "code",
   "execution_count": 34,
   "id": "d8aef570",
   "metadata": {},
   "outputs": [
    {
     "data": {
      "text/plain": [
       "[('5219', 0.992164134979248),\n",
       " ('1199', 0.9915337562561035),\n",
       " ('3938', 0.988633930683136),\n",
       " ('5260', 0.9882075190544128),\n",
       " ('8405', 0.9879229068756104),\n",
       " ('8379', 0.9864093065261841),\n",
       " ('4791', 0.9860796928405762),\n",
       " ('8535', 0.9859747290611267),\n",
       " ('3856', 0.9835509657859802),\n",
       " ('5176', 0.9828998446464539)]"
      ]
     },
     "execution_count": 34,
     "metadata": {},
     "output_type": "execute_result"
    }
   ],
   "source": [
    "similars = model.wv.most_similar(positive=song_id)\n",
    "similars"
   ]
  },
  {
   "cell_type": "code",
   "execution_count": 35,
   "id": "f4d7a993",
   "metadata": {},
   "outputs": [],
   "source": [
    "import numpy as np"
   ]
  },
  {
   "cell_type": "code",
   "execution_count": 40,
   "id": "0b3f46d0",
   "metadata": {},
   "outputs": [],
   "source": [
    "similars_ids = np.array(similars)[:,0]"
   ]
  },
  {
   "cell_type": "code",
   "execution_count": 41,
   "id": "6aaa46ca",
   "metadata": {},
   "outputs": [
    {
     "data": {
      "text/html": [
       "<div>\n",
       "<style scoped>\n",
       "    .dataframe tbody tr th:only-of-type {\n",
       "        vertical-align: middle;\n",
       "    }\n",
       "\n",
       "    .dataframe tbody tr th {\n",
       "        vertical-align: top;\n",
       "    }\n",
       "\n",
       "    .dataframe thead th {\n",
       "        text-align: right;\n",
       "    }\n",
       "</style>\n",
       "<table border=\"1\" class=\"dataframe\">\n",
       "  <thead>\n",
       "    <tr style=\"text-align: right;\">\n",
       "      <th></th>\n",
       "      <th>title</th>\n",
       "      <th>artist</th>\n",
       "    </tr>\n",
       "    <tr>\n",
       "      <th>id</th>\n",
       "      <th></th>\n",
       "      <th></th>\n",
       "    </tr>\n",
       "  </thead>\n",
       "  <tbody>\n",
       "    <tr>\n",
       "      <th>5219</th>\n",
       "      <td>Fly Like An Eagle</td>\n",
       "      <td>Seal</td>\n",
       "    </tr>\n",
       "    <tr>\n",
       "      <th>1199</th>\n",
       "      <td>Put Your Records On</td>\n",
       "      <td>Corinne Bailey Rae</td>\n",
       "    </tr>\n",
       "    <tr>\n",
       "      <th>3938</th>\n",
       "      <td>Missing</td>\n",
       "      <td>Everything But The Girl</td>\n",
       "    </tr>\n",
       "    <tr>\n",
       "      <th>5260</th>\n",
       "      <td>White Flag</td>\n",
       "      <td>Dido</td>\n",
       "    </tr>\n",
       "    <tr>\n",
       "      <th>8405</th>\n",
       "      <td>Angel</td>\n",
       "      <td>Sarah McLachlan</td>\n",
       "    </tr>\n",
       "    <tr>\n",
       "      <th>8379</th>\n",
       "      <td>True</td>\n",
       "      <td>Spandau Ballet</td>\n",
       "    </tr>\n",
       "    <tr>\n",
       "      <th>4791</th>\n",
       "      <td>Sunday Morning</td>\n",
       "      <td>Maroon 5</td>\n",
       "    </tr>\n",
       "    <tr>\n",
       "      <th>8535</th>\n",
       "      <td>I Can't Tell You Why</td>\n",
       "      <td>The Eagles</td>\n",
       "    </tr>\n",
       "    <tr>\n",
       "      <th>3856</th>\n",
       "      <td>It Ain't Over 'til It's Over</td>\n",
       "      <td>Lenny Kravitz</td>\n",
       "    </tr>\n",
       "    <tr>\n",
       "      <th>5176</th>\n",
       "      <td>Say</td>\n",
       "      <td>John Mayer</td>\n",
       "    </tr>\n",
       "  </tbody>\n",
       "</table>\n",
       "</div>"
      ],
      "text/plain": [
       "                             title                   artist\n",
       "id                                                         \n",
       "5219             Fly Like An Eagle                     Seal\n",
       "1199           Put Your Records On       Corinne Bailey Rae\n",
       "3938                       Missing  Everything But The Girl\n",
       "5260                    White Flag                     Dido\n",
       "8405                         Angel          Sarah McLachlan\n",
       "8379                          True           Spandau Ballet\n",
       "4791                Sunday Morning                 Maroon 5\n",
       "8535          I Can't Tell You Why               The Eagles\n",
       "3856  It Ain't Over 'til It's Over            Lenny Kravitz\n",
       "5176                           Say               John Mayer"
      ]
     },
     "execution_count": 41,
     "metadata": {},
     "output_type": "execute_result"
    }
   ],
   "source": [
    "df_songs.loc[similars_ids]"
   ]
  },
  {
   "cell_type": "code",
   "execution_count": 46,
   "id": "6c430223",
   "metadata": {},
   "outputs": [],
   "source": [
    "def print_recommendations(song_id):\n",
    "    print(df_songs.loc[song_id])\n",
    "    \n",
    "    similars = model.wv.most_similar(positive=song_id)\n",
    "    similar_idx = np.array(similars)[:,0]\n",
    "    \n",
    "    return df_songs.loc[similar_idx]"
   ]
  },
  {
   "cell_type": "markdown",
   "id": "2268dacd",
   "metadata": {},
   "source": [
    "# More Examples"
   ]
  },
  {
   "cell_type": "markdown",
   "id": "c19a054e",
   "metadata": {},
   "source": [
    "### Master of Puppets = metallica"
   ]
  },
  {
   "cell_type": "code",
   "execution_count": 47,
   "id": "1ebfb687",
   "metadata": {},
   "outputs": [
    {
     "name": "stdout",
     "output_type": "stream",
     "text": [
      "title     Master Of Puppets\n",
      "artist            Metallica\n",
      "Name: 2068, dtype: object\n"
     ]
    },
    {
     "data": {
      "text/html": [
       "<div>\n",
       "<style scoped>\n",
       "    .dataframe tbody tr th:only-of-type {\n",
       "        vertical-align: middle;\n",
       "    }\n",
       "\n",
       "    .dataframe tbody tr th {\n",
       "        vertical-align: top;\n",
       "    }\n",
       "\n",
       "    .dataframe thead th {\n",
       "        text-align: right;\n",
       "    }\n",
       "</style>\n",
       "<table border=\"1\" class=\"dataframe\">\n",
       "  <thead>\n",
       "    <tr style=\"text-align: right;\">\n",
       "      <th></th>\n",
       "      <th>title</th>\n",
       "      <th>artist</th>\n",
       "    </tr>\n",
       "    <tr>\n",
       "      <th>id</th>\n",
       "      <th></th>\n",
       "      <th></th>\n",
       "    </tr>\n",
       "  </thead>\n",
       "  <tbody>\n",
       "    <tr>\n",
       "      <th>2104</th>\n",
       "      <td>Life Won't Wait</td>\n",
       "      <td>Ozzy Osbourne</td>\n",
       "    </tr>\n",
       "    <tr>\n",
       "      <th>1849</th>\n",
       "      <td>Bad Company</td>\n",
       "      <td>Five Finger Death Punch</td>\n",
       "    </tr>\n",
       "    <tr>\n",
       "      <th>6685</th>\n",
       "      <td>The Trooper</td>\n",
       "      <td>Iron Maiden</td>\n",
       "    </tr>\n",
       "    <tr>\n",
       "      <th>2164</th>\n",
       "      <td>Voodoo</td>\n",
       "      <td>Godsmack</td>\n",
       "    </tr>\n",
       "    <tr>\n",
       "      <th>2062</th>\n",
       "      <td>Outshined</td>\n",
       "      <td>Soundgarden</td>\n",
       "    </tr>\n",
       "    <tr>\n",
       "      <th>5479</th>\n",
       "      <td>Wild Side</td>\n",
       "      <td>Motley Crue</td>\n",
       "    </tr>\n",
       "    <tr>\n",
       "      <th>2014</th>\n",
       "      <td>Youth Gone Wild</td>\n",
       "      <td>Skid Row</td>\n",
       "    </tr>\n",
       "    <tr>\n",
       "      <th>1792</th>\n",
       "      <td>Love Hate Sex Pain</td>\n",
       "      <td>Godsmack</td>\n",
       "    </tr>\n",
       "    <tr>\n",
       "      <th>2066</th>\n",
       "      <td>Whatever</td>\n",
       "      <td>Godsmack</td>\n",
       "    </tr>\n",
       "    <tr>\n",
       "      <th>1922</th>\n",
       "      <td>One</td>\n",
       "      <td>Metallica</td>\n",
       "    </tr>\n",
       "  </tbody>\n",
       "</table>\n",
       "</div>"
      ],
      "text/plain": [
       "                   title                   artist\n",
       "id                                               \n",
       "2104     Life Won't Wait            Ozzy Osbourne\n",
       "1849         Bad Company  Five Finger Death Punch\n",
       "6685         The Trooper              Iron Maiden\n",
       "2164              Voodoo                 Godsmack\n",
       "2062           Outshined              Soundgarden\n",
       "5479           Wild Side              Motley Crue\n",
       "2014     Youth Gone Wild                 Skid Row\n",
       "1792  Love Hate Sex Pain                 Godsmack\n",
       "2066            Whatever                 Godsmack\n",
       "1922                 One                Metallica"
      ]
     },
     "execution_count": 47,
     "metadata": {},
     "output_type": "execute_result"
    }
   ],
   "source": [
    "print_recommendations('2068')"
   ]
  },
  {
   "cell_type": "markdown",
   "id": "8d39d3c7",
   "metadata": {},
   "source": [
    "### Billi Jean - Michael Jackson"
   ]
  },
  {
   "cell_type": "code",
   "execution_count": 49,
   "id": "8eb2b7e4",
   "metadata": {},
   "outputs": [
    {
     "name": "stdout",
     "output_type": "stream",
     "text": [
      "title         Billie Jean\n",
      "artist    Michael Jackson\n",
      "Name: 3822, dtype: object\n"
     ]
    },
    {
     "data": {
      "text/html": [
       "<div>\n",
       "<style scoped>\n",
       "    .dataframe tbody tr th:only-of-type {\n",
       "        vertical-align: middle;\n",
       "    }\n",
       "\n",
       "    .dataframe tbody tr th {\n",
       "        vertical-align: top;\n",
       "    }\n",
       "\n",
       "    .dataframe thead th {\n",
       "        text-align: right;\n",
       "    }\n",
       "</style>\n",
       "<table border=\"1\" class=\"dataframe\">\n",
       "  <thead>\n",
       "    <tr style=\"text-align: right;\">\n",
       "      <th></th>\n",
       "      <th>title</th>\n",
       "      <th>artist</th>\n",
       "    </tr>\n",
       "    <tr>\n",
       "      <th>id</th>\n",
       "      <th></th>\n",
       "      <th></th>\n",
       "    </tr>\n",
       "  </thead>\n",
       "  <tbody>\n",
       "    <tr>\n",
       "      <th>4187</th>\n",
       "      <td>I Wanna Dance With Somebody (Who Loves Me)</td>\n",
       "      <td>Whitney Houston</td>\n",
       "    </tr>\n",
       "    <tr>\n",
       "      <th>15660</th>\n",
       "      <td>Let The Music Play</td>\n",
       "      <td>Shannon</td>\n",
       "    </tr>\n",
       "    <tr>\n",
       "      <th>4181</th>\n",
       "      <td>Kiss</td>\n",
       "      <td>Prince &amp; The Revolution</td>\n",
       "    </tr>\n",
       "    <tr>\n",
       "      <th>12749</th>\n",
       "      <td>Wanna Be Startin' Somethin'</td>\n",
       "      <td>Michael Jackson</td>\n",
       "    </tr>\n",
       "    <tr>\n",
       "      <th>4157</th>\n",
       "      <td>P.Y.T. (Pretty Young Thing)</td>\n",
       "      <td>Michael Jackson</td>\n",
       "    </tr>\n",
       "    <tr>\n",
       "      <th>3942</th>\n",
       "      <td>I Would Die 4 U</td>\n",
       "      <td>Prince &amp; The Revolution</td>\n",
       "    </tr>\n",
       "    <tr>\n",
       "      <th>3384</th>\n",
       "      <td>Hungry Eyes</td>\n",
       "      <td>Eric Carmen</td>\n",
       "    </tr>\n",
       "    <tr>\n",
       "      <th>4013</th>\n",
       "      <td>Down Under</td>\n",
       "      <td>Men At Work</td>\n",
       "    </tr>\n",
       "    <tr>\n",
       "      <th>1506</th>\n",
       "      <td>The Way You Make Me Feel</td>\n",
       "      <td>Michael Jackson</td>\n",
       "    </tr>\n",
       "    <tr>\n",
       "      <th>3357</th>\n",
       "      <td>Manic Monday</td>\n",
       "      <td>The Bangles</td>\n",
       "    </tr>\n",
       "  </tbody>\n",
       "</table>\n",
       "</div>"
      ],
      "text/plain": [
       "                                            title                   artist\n",
       "id                                                                        \n",
       "4187   I Wanna Dance With Somebody (Who Loves Me)          Whitney Houston\n",
       "15660                          Let The Music Play                  Shannon\n",
       "4181                                         Kiss  Prince & The Revolution\n",
       "12749                 Wanna Be Startin' Somethin'          Michael Jackson\n",
       "4157                  P.Y.T. (Pretty Young Thing)          Michael Jackson\n",
       "3942                              I Would Die 4 U  Prince & The Revolution\n",
       "3384                                  Hungry Eyes              Eric Carmen\n",
       "4013                                   Down Under              Men At Work\n",
       "1506                     The Way You Make Me Feel          Michael Jackson\n",
       "3357                                 Manic Monday              The Bangles"
      ]
     },
     "execution_count": 49,
     "metadata": {},
     "output_type": "execute_result"
    }
   ],
   "source": [
    "print_recommendations('3822')"
   ]
  },
  {
   "cell_type": "code",
   "execution_count": null,
   "id": "4845c218",
   "metadata": {},
   "outputs": [],
   "source": []
  },
  {
   "cell_type": "code",
   "execution_count": null,
   "id": "244094c9",
   "metadata": {},
   "outputs": [],
   "source": []
  }
 ],
 "metadata": {
  "kernelspec": {
   "display_name": "Python 3 (ipykernel)",
   "language": "python",
   "name": "python3"
  },
  "language_info": {
   "codemirror_mode": {
    "name": "ipython",
    "version": 3
   },
   "file_extension": ".py",
   "mimetype": "text/x-python",
   "name": "python",
   "nbconvert_exporter": "python",
   "pygments_lexer": "ipython3",
   "version": "3.9.14"
  }
 },
 "nbformat": 4,
 "nbformat_minor": 5
}
