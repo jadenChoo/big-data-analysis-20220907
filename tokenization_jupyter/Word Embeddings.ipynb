{
 "cells": [
  {
   "cell_type": "markdown",
   "id": "46cf73ec",
   "metadata": {},
   "source": [
    "# Word Embeddings"
   ]
  },
  {
   "cell_type": "markdown",
   "id": "7d4e9624",
   "metadata": {},
   "source": [
    "Source : https://github.com/jalammar/jalammar.github.io/blob/master/notebooks/nlp/01_Exploring_Word_Embeddings.ipynb"
   ]
  },
  {
   "cell_type": "code",
   "execution_count": 1,
   "id": "a1084078",
   "metadata": {},
   "outputs": [],
   "source": [
    "import gensim.downloader as api"
   ]
  },
  {
   "cell_type": "code",
   "execution_count": 3,
   "id": "e5238c82",
   "metadata": {},
   "outputs": [],
   "source": [
    "# GloVe = Stanford University\n",
    "model = api.load('glove-wiki-gigaword-50')"
   ]
  },
  {
   "cell_type": "code",
   "execution_count": 4,
   "id": "4caa04c1",
   "metadata": {},
   "outputs": [
    {
     "data": {
      "text/plain": [
       "array([ 0.50451 ,  0.68607 , -0.59517 , -0.022801,  0.60046 , -0.13498 ,\n",
       "       -0.08813 ,  0.47377 , -0.61798 , -0.31012 , -0.076666,  1.493   ,\n",
       "       -0.034189, -0.98173 ,  0.68229 ,  0.81722 , -0.51874 , -0.31503 ,\n",
       "       -0.55809 ,  0.66421 ,  0.1961  , -0.13495 , -0.11476 , -0.30344 ,\n",
       "        0.41177 , -2.223   , -1.0756  , -1.0783  , -0.34354 ,  0.33505 ,\n",
       "        1.9927  , -0.04234 , -0.64319 ,  0.71125 ,  0.49159 ,  0.16754 ,\n",
       "        0.34344 , -0.25663 , -0.8523  ,  0.1661  ,  0.40102 ,  1.1685  ,\n",
       "       -1.0137  , -0.21585 , -0.15155 ,  0.78321 , -0.91241 , -1.6106  ,\n",
       "       -0.64426 , -0.51042 ], dtype=float32)"
      ]
     },
     "execution_count": 4,
     "metadata": {},
     "output_type": "execute_result"
    }
   ],
   "source": [
    "model['king']"
   ]
  },
  {
   "cell_type": "code",
   "execution_count": 5,
   "id": "ea70c549",
   "metadata": {},
   "outputs": [
    {
     "data": {
      "text/plain": [
       "(400000, 50)"
      ]
     },
     "execution_count": 5,
     "metadata": {},
     "output_type": "execute_result"
    }
   ],
   "source": [
    "model.vectors.shape"
   ]
  },
  {
   "cell_type": "markdown",
   "id": "bff31251",
   "metadata": {},
   "source": [
    "# Visualization of Embedding Vectors"
   ]
  },
  {
   "cell_type": "code",
   "execution_count": 8,
   "id": "bad08152",
   "metadata": {},
   "outputs": [],
   "source": [
    "import numpy as np\n",
    "import seaborn as sns\n",
    "import matplotlib.pyplot as plt"
   ]
  },
  {
   "cell_type": "code",
   "execution_count": 9,
   "id": "b6a0fa33",
   "metadata": {},
   "outputs": [
    {
     "data": {
      "text/plain": [
       "array([[ 0.50451 ,  0.68607 , -0.59517 , -0.022801,  0.60046 , -0.13498 ,\n",
       "        -0.08813 ,  0.47377 , -0.61798 , -0.31012 , -0.076666,  1.493   ,\n",
       "        -0.034189, -0.98173 ,  0.68229 ,  0.81722 , -0.51874 , -0.31503 ,\n",
       "        -0.55809 ,  0.66421 ,  0.1961  , -0.13495 , -0.11476 , -0.30344 ,\n",
       "         0.41177 , -2.223   , -1.0756  , -1.0783  , -0.34354 ,  0.33505 ,\n",
       "         1.9927  , -0.04234 , -0.64319 ,  0.71125 ,  0.49159 ,  0.16754 ,\n",
       "         0.34344 , -0.25663 , -0.8523  ,  0.1661  ,  0.40102 ,  1.1685  ,\n",
       "        -1.0137  , -0.21585 , -0.15155 ,  0.78321 , -0.91241 , -1.6106  ,\n",
       "        -0.64426 , -0.51042 ]], dtype=float32)"
      ]
     },
     "execution_count": 9,
     "metadata": {},
     "output_type": "execute_result"
    }
   ],
   "source": [
    "model['king'].reshape(1, -1)"
   ]
  },
  {
   "cell_type": "code",
   "execution_count": 10,
   "id": "ee56fccb",
   "metadata": {},
   "outputs": [
    {
     "data": {
      "text/plain": [
       "(1, 50)"
      ]
     },
     "execution_count": 10,
     "metadata": {},
     "output_type": "execute_result"
    }
   ],
   "source": [
    "vec = model['king'].reshape(1, -1)\n",
    "vec.shape"
   ]
  },
  {
   "cell_type": "code",
   "execution_count": 15,
   "id": "1d13ee25",
   "metadata": {},
   "outputs": [
    {
     "data": {
      "image/png": "[encoded data removed]",
      "text/plain": [
       "<Figure size 1200x100 with 2 Axes>"
      ]
     },
     "metadata": {},
     "output_type": "display_data"
    }
   ],
   "source": [
    "plt.figure(figsize=(12,1))\n",
    "sns.heatmap(vec, cmap='RdBu', vmax=2, vmin=-2)\n",
    "plt.tick_params(axis='x', bottom=False, labelbottom=False)\n",
    "plt.show()"
   ]
  },
  {
   "cell_type": "code",
   "execution_count": 18,
   "id": "42930219",
   "metadata": {},
   "outputs": [],
   "source": [
    "def plot_embeddings(words):\n",
    "    n_words = len(words)\n",
    "    vectors = [model[x] for x in words]\n",
    "    \n",
    "    print(vectors)"
   ]
  },
  {
   "cell_type": "code",
   "execution_count": 19,
   "id": "87621341",
   "metadata": {},
   "outputs": [
    {
     "name": "stdout",
     "output_type": "stream",
     "text": [
      "[array([-0.094386,  0.43007 , -0.17224 , -0.45529 ,  1.6447  ,  0.40335 ,\n",
      "       -0.37263 ,  0.25071 , -0.10588 ,  0.10778 , -0.10848 ,  0.15181 ,\n",
      "       -0.65396 ,  0.55054 ,  0.59591 , -0.46278 ,  0.11847 ,  0.64448 ,\n",
      "       -0.70948 ,  0.23947 , -0.82905 ,  1.272   ,  0.033021,  0.2935  ,\n",
      "        0.3911  , -2.8094  , -0.70745 ,  0.4106  ,  0.3894  , -0.2913  ,\n",
      "        2.6124  , -0.34576 , -0.16832 ,  0.25154 ,  0.31216 ,  0.31639 ,\n",
      "        0.12539 , -0.012646,  0.22297 , -0.56585 , -0.086264,  0.62549 ,\n",
      "       -0.0576  ,  0.29375 ,  0.66005 , -0.53115 , -0.48233 , -0.97925 ,\n",
      "        0.53135 , -0.11725 ], dtype=float32), array([-1.8153e-01,  6.4827e-01, -5.8210e-01, -4.9451e-01,  1.5415e+00,\n",
      "        1.3450e+00, -4.3305e-01,  5.8059e-01,  3.5556e-01, -2.5184e-01,\n",
      "        2.0254e-01, -7.1643e-01,  3.0610e-01,  5.6127e-01,  8.3928e-01,\n",
      "       -3.8085e-01, -9.0875e-01,  4.3326e-01, -1.4436e-02,  2.3725e-01,\n",
      "       -5.3799e-01,  1.7773e+00, -6.6433e-02,  6.9795e-01,  6.9291e-01,\n",
      "       -2.6739e+00, -7.6805e-01,  3.3929e-01,  1.9695e-01, -3.5245e-01,\n",
      "        2.2920e+00, -2.7411e-01, -3.0169e-01,  8.5286e-04,  1.6923e-01,\n",
      "        9.1433e-02, -2.3610e-02,  3.6236e-02,  3.4488e-01, -8.3947e-01,\n",
      "       -2.5174e-01,  4.2123e-01,  4.8616e-01,  2.2325e-02,  5.5760e-01,\n",
      "       -8.5223e-01, -2.3073e-01, -1.3138e+00,  4.8764e-01, -1.0467e-01],\n",
      "      dtype=float32), array([ 0.47685 , -0.084552,  1.4641  ,  0.047017,  0.14686 ,  0.5082  ,\n",
      "       -1.2228  , -0.22607 ,  0.19306 , -0.29756 ,  0.20599 , -0.71284 ,\n",
      "       -1.6288  ,  0.17096 ,  0.74797 , -0.061943, -0.65766 ,  1.3786  ,\n",
      "       -0.68043 , -1.7551  ,  0.58319 ,  0.25157 , -1.2114  ,  0.81343 ,\n",
      "        0.094825, -1.6819  , -0.64498 ,  0.6322  ,  1.1211  ,  0.16112 ,\n",
      "        2.5379  ,  0.24852 , -0.26816 ,  0.32818 ,  1.2916  ,  0.23548 ,\n",
      "        0.61465 , -0.1344  , -0.13237 ,  0.27398 , -0.11821 ,  0.1354  ,\n",
      "        0.074306, -0.61951 ,  0.45472 , -0.30318 , -0.21883 , -0.56054 ,\n",
      "        1.1177  , -0.36595 ], dtype=float32), array([ 2.2431  ,  1.3593  ,  1.0027  ,  0.74489 ,  0.38023 , -0.49881 ,\n",
      "       -0.43995 , -0.35627 , -0.1761  ,  0.62409 ,  0.74536 ,  0.50709 ,\n",
      "        0.21883 ,  0.90979 , -0.50444 ,  0.63401 , -0.39978 ,  0.28323 ,\n",
      "       -2.1442  ,  0.27225 , -0.4343  , -0.1694  ,  0.29609 , -0.38939 ,\n",
      "        0.24235 , -0.31603 , -0.39842 ,  0.36277 , -0.24008 , -0.23794 ,\n",
      "        0.69893 , -0.17229 ,  0.13965 , -0.74697 , -0.45963 , -1.0565  ,\n",
      "       -0.63789 , -0.41344 ,  0.74397 ,  0.16217 ,  0.14665 , -0.29287 ,\n",
      "       -0.27353 ,  0.70475 , -0.22558 , -0.36284 ,  0.96752 , -0.57552 ,\n",
      "       -0.57269 ,  0.071148], dtype=float32)]\n"
     ]
    }
   ],
   "source": [
    "plot_embeddings(['man', 'woman','car','jupiter'])"
   ]
  },
  {
   "cell_type": "code",
   "execution_count": 28,
   "id": "6e3fa264",
   "metadata": {},
   "outputs": [],
   "source": [
    "def plot_embeddings(words):\n",
    "    n_words = len(words)\n",
    "    vectors = [model[x] for x in words]\n",
    "    \n",
    "    plt.figure(figsize=(12,n_words))\n",
    "    sns.heatmap(vectors, cmap='RdBu', vmax=2, vmin=-2)\n",
    "    plt.tick_params(axis='x', bottom=False, labelbottom=False)\n",
    "    \n",
    "    plt.show()"
   ]
  },
  {
   "cell_type": "code",
   "execution_count": 29,
   "id": "89315a59",
   "metadata": {},
   "outputs": [
    {
     "data": {
      "image/png": "[encoded data removed]",
      "text/plain": [
       "<Figure size 1200x400 with 2 Axes>"
      ]
     },
     "metadata": {},
     "output_type": "display_data"
    }
   ],
   "source": [
    "plot_embeddings(['man', 'woman','car','jupiter'])"
   ]
  },
  {
   "cell_type": "code",
   "execution_count": 39,
   "id": "285a4ad2",
   "metadata": {},
   "outputs": [],
   "source": [
    "def plot_embeddings(words):\n",
    "    n_words = len(words)\n",
    "    vectors = np.array([model[x] for x in words])\n",
    "    \n",
    "    plt.figure(figsize=(12,n_words))\n",
    "    sns.heatmap(vectors, cmap='RdBu', vmax=2, vmin=-2)\n",
    "    \n",
    "    ax = plt.gca()\n",
    "    ax.set_yticklabels(words, rotation=0)\n",
    "    ax.tick_params(axis='both', which='major', labelsize=24)\n",
    "    \n",
    "    plt.tick_params(axis='x', bottom=False, labelbottom=False)    \n",
    "    plt.show()"
   ]
  },
  {
   "cell_type": "code",
   "execution_count": 40,
   "id": "05ce8690",
   "metadata": {},
   "outputs": [
    {
     "data": {
      "image/png": "[encoded data removed]",
      "text/plain": [
       "<Figure size 1200x400 with 2 Axes>"
      ]
     },
     "metadata": {},
     "output_type": "display_data"
    }
   ],
   "source": [
    "plot_embeddings(['man', 'woman','car','jupiter'])"
   ]
  },
  {
   "cell_type": "code",
   "execution_count": null,
   "id": "6c286a6c",
   "metadata": {},
   "outputs": [],
   "source": []
  },
  {
   "cell_type": "markdown",
   "id": "36025517",
   "metadata": {},
   "source": [
    "# Similar Words"
   ]
  },
  {
   "cell_type": "code",
   "execution_count": 38,
   "id": "27f5f95a",
   "metadata": {},
   "outputs": [
    {
     "data": {
      "text/plain": [
       "[('cat', 0.9218006134033203),\n",
       " ('dogs', 0.8513158559799194),\n",
       " ('horse', 0.7907583117485046),\n",
       " ('puppy', 0.7754921317100525),\n",
       " ('pet', 0.7724707722663879),\n",
       " ('rabbit', 0.7720814347267151),\n",
       " ('pig', 0.7490062117576599),\n",
       " ('snake', 0.7399188876152039),\n",
       " ('baby', 0.7395570874214172),\n",
       " ('bite', 0.738793671131134)]"
      ]
     },
     "execution_count": 38,
     "metadata": {},
     "output_type": "execute_result"
    }
   ],
   "source": [
    "model.most_similar('dog')"
   ]
  },
  {
   "cell_type": "markdown",
   "id": "90d41ca3",
   "metadata": {},
   "source": [
    "### king - man + woman = ?"
   ]
  },
  {
   "cell_type": "code",
   "execution_count": 41,
   "id": "7126c28c",
   "metadata": {},
   "outputs": [
    {
     "data": {
      "text/plain": [
       "[('queen', 0.8523604273796082),\n",
       " ('throne', 0.7664334177970886),\n",
       " ('prince', 0.759214460849762),\n",
       " ('daughter', 0.7473882436752319),\n",
       " ('elizabeth', 0.7460219860076904),\n",
       " ('princess', 0.7424570322036743),\n",
       " ('kingdom', 0.7337412238121033),\n",
       " ('monarch', 0.7214491367340088),\n",
       " ('eldest', 0.7184861898422241),\n",
       " ('widow', 0.7099431157112122)]"
      ]
     },
     "execution_count": 41,
     "metadata": {},
     "output_type": "execute_result"
    }
   ],
   "source": [
    "model.most_similar(positive=['king','woman'], negative=['man'])"
   ]
  },
  {
   "cell_type": "code",
   "execution_count": 42,
   "id": "f78ef718",
   "metadata": {},
   "outputs": [],
   "source": [
    "from sklearn.metrics.pairwise import cosine_similarity"
   ]
  },
  {
   "cell_type": "code",
   "execution_count": 43,
   "id": "214004e6",
   "metadata": {},
   "outputs": [],
   "source": [
    "vec = model['king'] - model['man'] + model['woman']\n",
    "vec = vec.reshape(1,-1)"
   ]
  },
  {
   "cell_type": "code",
   "execution_count": 44,
   "id": "7d569d23",
   "metadata": {},
   "outputs": [
    {
     "data": {
      "text/plain": [
       "array([[0.860958]], dtype=float32)"
      ]
     },
     "execution_count": 44,
     "metadata": {},
     "output_type": "execute_result"
    }
   ],
   "source": [
    "cosine_similarity(vec, model['queen'].reshape(1,-1))"
   ]
  },
  {
   "cell_type": "code",
   "execution_count": 45,
   "id": "67394c07",
   "metadata": {},
   "outputs": [
    {
     "data": {
      "text/plain": [
       "array([[0.8859834]], dtype=float32)"
      ]
     },
     "execution_count": 45,
     "metadata": {},
     "output_type": "execute_result"
    }
   ],
   "source": [
    "cosine_similarity(vec, model['king'].reshape(1,-1))"
   ]
  },
  {
   "cell_type": "markdown",
   "id": "7de22e61",
   "metadata": {},
   "source": [
    "### gender bias??"
   ]
  },
  {
   "cell_type": "code",
   "execution_count": 46,
   "id": "0b4185de",
   "metadata": {},
   "outputs": [
    {
     "data": {
      "text/plain": [
       "[('nurse', 0.840464174747467),\n",
       " ('child', 0.7663259506225586),\n",
       " ('pregnant', 0.7570130228996277),\n",
       " ('mother', 0.7517457604408264),\n",
       " ('patient', 0.751666247844696),\n",
       " ('physician', 0.7507280707359314),\n",
       " ('dentist', 0.7360344529151917),\n",
       " ('therapist', 0.7342537045478821),\n",
       " ('parents', 0.7286345958709717),\n",
       " ('surgeon', 0.7165213823318481)]"
      ]
     },
     "execution_count": 46,
     "metadata": {},
     "output_type": "execute_result"
    }
   ],
   "source": [
    "model.most_similar(positive=['doctor','woman'], negative=['man'])"
   ]
  },
  {
   "cell_type": "code",
   "execution_count": 47,
   "id": "d7ddcb6b",
   "metadata": {},
   "outputs": [],
   "source": [
    "vec = model['doctor'] - model['man'] + model['woman']\n",
    "vec = vec.reshape(1,-1)"
   ]
  },
  {
   "cell_type": "code",
   "execution_count": 48,
   "id": "7cf66295",
   "metadata": {},
   "outputs": [
    {
     "data": {
      "text/plain": [
       "array([[0.84242684]], dtype=float32)"
      ]
     },
     "execution_count": 48,
     "metadata": {},
     "output_type": "execute_result"
    }
   ],
   "source": [
    "cosine_similarity(vec, model['nurse'].reshape(1,-1))"
   ]
  },
  {
   "cell_type": "code",
   "execution_count": 49,
   "id": "2bab3194",
   "metadata": {},
   "outputs": [
    {
     "data": {
      "text/plain": [
       "array([[0.89598835]], dtype=float32)"
      ]
     },
     "execution_count": 49,
     "metadata": {},
     "output_type": "execute_result"
    }
   ],
   "source": [
    "cosine_similarity(vec, model['doctor'].reshape(1,-1))"
   ]
  },
  {
   "cell_type": "code",
   "execution_count": null,
   "id": "4d80d870",
   "metadata": {},
   "outputs": [],
   "source": []
  },
  {
   "cell_type": "code",
   "execution_count": null,
   "id": "da6462e4",
   "metadata": {},
   "outputs": [],
   "source": []
  },
  {
   "cell_type": "code",
   "execution_count": null,
   "id": "a1e0cd8e",
   "metadata": {},
   "outputs": [],
   "source": []
  },
  {
   "cell_type": "code",
   "execution_count": null,
   "id": "6b6c89c2",
   "metadata": {},
   "outputs": [],
   "source": []
  },
  {
   "cell_type": "code",
   "execution_count": null,
   "id": "d62197ed",
   "metadata": {},
   "outputs": [],
   "source": []
  },
  {
   "cell_type": "code",
   "execution_count": null,
   "id": "b86775c5",
   "metadata": {},
   "outputs": [],
   "source": []
  },
  {
   "cell_type": "code",
   "execution_count": null,
   "id": "9f46c01b",
   "metadata": {},
   "outputs": [],
   "source": []
  }
 ],
 "metadata": {
  "kernelspec": {
   "display_name": "Python 3 (ipykernel)",
   "language": "python",
   "name": "python3"
  },
  "language_info": {
   "codemirror_mode": {
    "name": "ipython",
    "version": 3
   },
   "file_extension": ".py",
   "mimetype": "text/x-python",
   "name": "python",
   "nbconvert_exporter": "python",
   "pygments_lexer": "ipython3",
   "version": "3.9.14"
  }
 },
 "nbformat": 4,
 "nbformat_minor": 5
}
