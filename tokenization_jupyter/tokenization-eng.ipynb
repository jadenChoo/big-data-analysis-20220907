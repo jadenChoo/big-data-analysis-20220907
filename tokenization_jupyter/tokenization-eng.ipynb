{
 "cells": [
  {
   "cell_type": "markdown",
   "id": "1d1890a2",
   "metadata": {},
   "source": [
    "## Tokenization -english"
   ]
  },
  {
   "cell_type": "markdown",
   "id": "844ff578",
   "metadata": {},
   "source": [
    "추준호(20224224)"
   ]
  },
  {
   "cell_type": "code",
   "execution_count": 2,
   "id": "0b6691cb",
   "metadata": {},
   "outputs": [],
   "source": [
    "import nltk"
   ]
  },
  {
   "cell_type": "code",
   "execution_count": 3,
   "id": "2b7cd727",
   "metadata": {},
   "outputs": [],
   "source": [
    "from nltk import(\n",
    "    sent_tokenize, word_tokenize, pos_tag, wordpunct_tokenize\n",
    ")"
   ]
  },
  {
   "cell_type": "code",
   "execution_count": 15,
   "id": "f3294ec4",
   "metadata": {},
   "outputs": [
    {
     "name": "stderr",
     "output_type": "stream",
     "text": [
      "[nltk_data] Downloading package punkt to /Users/kakao/nltk_data...\n",
      "[nltk_data]   Package punkt is already up-to-date!\n",
      "[nltk_data] Downloading package averaged_perceptron_tagger to\n",
      "[nltk_data]     /Users/kakao/nltk_data...\n",
      "[nltk_data]   Unzipping taggers/averaged_perceptron_tagger.zip.\n"
     ]
    },
    {
     "data": {
      "text/plain": [
       "True"
      ]
     },
     "execution_count": 15,
     "metadata": {},
     "output_type": "execute_result"
    }
   ],
   "source": [
    "nltk.download('punkt')\n",
    "nltk.download('averaged_perceptron_tagger')"
   ]
  },
  {
   "cell_type": "code",
   "execution_count": 4,
   "id": "d5a6c48e",
   "metadata": {},
   "outputs": [],
   "source": [
    "text = \"The old building is scheduled for demolition. The contractors will begin building a new structure next month.\""
   ]
  },
  {
   "cell_type": "code",
   "execution_count": 7,
   "id": "1d1443c4",
   "metadata": {},
   "outputs": [
    {
     "name": "stdout",
     "output_type": "stream",
     "text": [
      "The old building is scheduled for demolition.\n",
      "The contractors will begin building a new structure next month.\n"
     ]
    }
   ],
   "source": [
    "for sent in sent_tokenize(text):\n",
    "    print(sent)"
   ]
  },
  {
   "cell_type": "code",
   "execution_count": 8,
   "id": "9933126d",
   "metadata": {},
   "outputs": [],
   "source": [
    "text2 = \"I am actively looking for Ph.D. students. and you are a Ph.D student.\""
   ]
  },
  {
   "cell_type": "code",
   "execution_count": 9,
   "id": "645bd1d9",
   "metadata": {},
   "outputs": [
    {
     "name": "stdout",
     "output_type": "stream",
     "text": [
      "I am actively looking for Ph.D. students.\n",
      "and you are a Ph.D student.\n"
     ]
    }
   ],
   "source": [
    "for sent in sent_tokenize(text2):\n",
    "    print(sent)"
   ]
  },
  {
   "cell_type": "code",
   "execution_count": 10,
   "id": "542883dd",
   "metadata": {},
   "outputs": [
    {
     "name": "stdout",
     "output_type": "stream",
     "text": [
      "The old building is scheduled for demolition.\n",
      "The\n",
      "old\n",
      "building\n",
      "is\n",
      "scheduled\n",
      "for\n",
      "demolition\n",
      ".\n",
      "\n",
      "The contractors will begin building a new structure next month.\n",
      "The\n",
      "contractors\n",
      "will\n",
      "begin\n",
      "building\n",
      "a\n",
      "new\n",
      "structure\n",
      "next\n",
      "month\n",
      ".\n",
      "\n"
     ]
    }
   ],
   "source": [
    "for sent in sent_tokenize(text):\n",
    "    print(sent)\n",
    "    \n",
    "    for token in word_tokenize(sent):\n",
    "        print(token)\n",
    "        \n",
    "    print()"
   ]
  },
  {
   "cell_type": "code",
   "execution_count": 12,
   "id": "5d5c0c5f",
   "metadata": {},
   "outputs": [
    {
     "name": "stdout",
     "output_type": "stream",
     "text": [
      "I am actively looking for Ph.D. students.\n",
      "I\n",
      "am\n",
      "actively\n",
      "looking\n",
      "for\n",
      "Ph\n",
      ".\n",
      "D\n",
      ".\n",
      "students\n",
      ".\n",
      "\n",
      "and you are a Ph.D student.\n",
      "and\n",
      "you\n",
      "are\n",
      "a\n",
      "Ph\n",
      ".\n",
      "D\n",
      "student\n",
      ".\n",
      "\n"
     ]
    }
   ],
   "source": [
    "for sent in sent_tokenize(text2):\n",
    "    print(sent)\n",
    "    \n",
    "    for token in wordpunct_tokenize(sent):\n",
    "        print(token)\n",
    "        \n",
    "    print()"
   ]
  },
  {
   "cell_type": "code",
   "execution_count": 16,
   "id": "8955231a",
   "metadata": {},
   "outputs": [
    {
     "name": "stdout",
     "output_type": "stream",
     "text": [
      "The old building is scheduled for demolition.\n",
      "('The', 'DT')\n",
      "('old', 'JJ')\n",
      "('building', 'NN')\n",
      "('is', 'VBZ')\n",
      "('scheduled', 'VBN')\n",
      "('for', 'IN')\n",
      "('demolition', 'NN')\n",
      "('.', '.')\n",
      "\n",
      "The contractors will begin building a new structure next month.\n",
      "('The', 'DT')\n",
      "('contractors', 'NNS')\n",
      "('will', 'MD')\n",
      "('begin', 'VB')\n",
      "('building', 'VBG')\n",
      "('a', 'DT')\n",
      "('new', 'JJ')\n",
      "('structure', 'NN')\n",
      "('next', 'JJ')\n",
      "('month', 'NN')\n",
      "('.', '.')\n",
      "\n"
     ]
    }
   ],
   "source": [
    "for sent in sent_tokenize(text):\n",
    "    print(sent)\n",
    "    \n",
    "    for token in pos_tag(word_tokenize(sent)):\n",
    "        print(token)\n",
    "        \n",
    "    print()"
   ]
  },
  {
   "cell_type": "code",
   "execution_count": null,
   "id": "7a3758ff",
   "metadata": {},
   "outputs": [],
   "source": []
  }
 ],
 "metadata": {
  "kernelspec": {
   "display_name": "Python 3 (ipykernel)",
   "language": "python",
   "name": "python3"
  },
  "language_info": {
   "codemirror_mode": {
    "name": "ipython",
    "version": 3
   },
   "file_extension": ".py",
   "mimetype": "text/x-python",
   "name": "python",
   "nbconvert_exporter": "python",
   "pygments_lexer": "ipython3",
   "version": "3.9.14"
  }
 },
 "nbformat": 4,
 "nbformat_minor": 5
}
