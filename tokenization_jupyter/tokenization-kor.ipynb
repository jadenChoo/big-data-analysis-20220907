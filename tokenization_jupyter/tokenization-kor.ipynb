{
 "cells": [
  {
   "cell_type": "markdown",
   "id": "ad6c3e55",
   "metadata": {},
   "source": [
    "# Tokenization - Korean"
   ]
  },
  {
   "cell_type": "markdown",
   "id": "39860a46",
   "metadata": {},
   "source": [
    "추준호(20224224)"
   ]
  },
  {
   "cell_type": "code",
   "execution_count": 1,
   "id": "9fb146c9",
   "metadata": {},
   "outputs": [],
   "source": [
    "import kss"
   ]
  },
  {
   "cell_type": "code",
   "execution_count": 2,
   "id": "2671fe29",
   "metadata": {},
   "outputs": [],
   "source": [
    "text = '너에게 닥친 고난이 아무리 커보이더라도 명심해라. 아직 빙산의 일각일 뿐이다.'"
   ]
  },
  {
   "cell_type": "code",
   "execution_count": 3,
   "id": "15b9ab4a",
   "metadata": {},
   "outputs": [
    {
     "name": "stdout",
     "output_type": "stream",
     "text": [
      "너에게 닥친 고난이 아무리 커보이더라도 명심해라.\n",
      "아직 빙산의 일각일 뿐이다.\n"
     ]
    }
   ],
   "source": [
    "for sent in kss.split_sentences(text):\n",
    "    print(sent)"
   ]
  },
  {
   "cell_type": "code",
   "execution_count": 4,
   "id": "533b9153",
   "metadata": {},
   "outputs": [],
   "source": [
    "from konlpy.tag import Okt"
   ]
  },
  {
   "cell_type": "code",
   "execution_count": 5,
   "id": "1690ab44",
   "metadata": {},
   "outputs": [],
   "source": [
    "okt = Okt()"
   ]
  },
  {
   "cell_type": "code",
   "execution_count": 6,
   "id": "ee3fd5da",
   "metadata": {},
   "outputs": [
    {
     "data": {
      "text/plain": [
       "['너',\n",
       " '에게',\n",
       " '닥친',\n",
       " '고난',\n",
       " '이',\n",
       " '아무리',\n",
       " '커',\n",
       " '보이더라도',\n",
       " '명',\n",
       " '심해',\n",
       " '라',\n",
       " '.',\n",
       " '아직',\n",
       " '빙산',\n",
       " '의',\n",
       " '일',\n",
       " '각',\n",
       " '일',\n",
       " '뿐',\n",
       " '이다',\n",
       " '.']"
      ]
     },
     "execution_count": 6,
     "metadata": {},
     "output_type": "execute_result"
    }
   ],
   "source": [
    "okt.morphs(text)"
   ]
  },
  {
   "cell_type": "code",
   "execution_count": 7,
   "id": "b71071c1",
   "metadata": {},
   "outputs": [
    {
     "name": "stdout",
     "output_type": "stream",
     "text": [
      "너에게 닥친 고난이 아무리 커보이더라도 명심해라.\n",
      "너\n",
      "에게\n",
      "닥친\n",
      "고난\n",
      "이\n",
      "아무리\n",
      "커\n",
      "보이더라도\n",
      "명\n",
      "심해\n",
      "라\n",
      ".\n",
      "\n",
      "아직 빙산의 일각일 뿐이다.\n",
      "아직\n",
      "빙산\n",
      "의\n",
      "일\n",
      "각\n",
      "일\n",
      "뿐\n",
      "이다\n",
      ".\n",
      "\n"
     ]
    }
   ],
   "source": [
    "for sent in kss.split_sentences(text):\n",
    "    print(sent)\n",
    "    \n",
    "    for token in okt.morphs(sent):\n",
    "        print(token)\n",
    "    \n",
    "    print()"
   ]
  },
  {
   "cell_type": "code",
   "execution_count": 8,
   "id": "d57383ee",
   "metadata": {},
   "outputs": [
    {
     "name": "stdout",
     "output_type": "stream",
     "text": [
      "너에게 닥친 고난이 아무리 커보이더라도 명심해라.\n",
      "('너', 'Noun')\n",
      "('에게', 'Josa')\n",
      "('닥친', 'Verb')\n",
      "('고난', 'Noun')\n",
      "('이', 'Josa')\n",
      "('아무리', 'Adverb')\n",
      "('커', 'Verb')\n",
      "('보이더라도', 'Verb')\n",
      "('명', 'Noun')\n",
      "('심해', 'Noun')\n",
      "('라', 'Josa')\n",
      "('.', 'Punctuation')\n",
      "\n",
      "아직 빙산의 일각일 뿐이다.\n",
      "('아직', 'Adverb')\n",
      "('빙산', 'Noun')\n",
      "('의', 'Josa')\n",
      "('일', 'Modifier')\n",
      "('각', 'Modifier')\n",
      "('일', 'Noun')\n",
      "('뿐', 'Noun')\n",
      "('이다', 'Josa')\n",
      "('.', 'Punctuation')\n",
      "\n"
     ]
    }
   ],
   "source": [
    "for sent in kss.split_sentences(text):\n",
    "    print(sent)\n",
    "    \n",
    "    for token in okt.pos(sent):\n",
    "        print(token)\n",
    "    \n",
    "    print()"
   ]
  },
  {
   "cell_type": "code",
   "execution_count": null,
   "id": "c9b3e5dd",
   "metadata": {},
   "outputs": [],
   "source": []
  },
  {
   "cell_type": "code",
   "execution_count": null,
   "id": "14a0a05e",
   "metadata": {},
   "outputs": [],
   "source": []
  }
 ],
 "metadata": {
  "kernelspec": {
   "display_name": "Python 3 (ipykernel)",
   "language": "python",
   "name": "python3"
  },
  "language_info": {
   "codemirror_mode": {
    "name": "ipython",
    "version": 3
   },
   "file_extension": ".py",
   "mimetype": "text/x-python",
   "name": "python",
   "nbconvert_exporter": "python",
   "pygments_lexer": "ipython3",
   "version": "3.9.14"
  }
 },
 "nbformat": 4,
 "nbformat_minor": 5
}
