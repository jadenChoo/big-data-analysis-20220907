{
 "cells": [
  {
   "cell_type": "markdown",
   "id": "dd58467e",
   "metadata": {},
   "source": [
    "# Hugging Face"
   ]
  },
  {
   "cell_type": "markdown",
   "id": "02e8946c",
   "metadata": {},
   "source": [
    "#### 추준호(20224224)"
   ]
  },
  {
   "cell_type": "code",
   "execution_count": 1,
   "id": "8dc74f7e",
   "metadata": {},
   "outputs": [
    {
     "name": "stderr",
     "output_type": "stream",
     "text": [
      "The cache for model files in Transformers v4.22.0 has been updated. Migrating your old cache. This is a one-time only operation. You can interrupt this and resume the migration later on by calling `transformers.utils.move_cache()`.\n"
     ]
    },
    {
     "name": "stdout",
     "output_type": "stream",
     "text": [
      "Moving 0 files to the new cache system\n"
     ]
    },
    {
     "data": {
      "application/vnd.jupyter.widget-view+json": {
       "model_id": "de2b224972ba469e8e396f54173c841e",
       "version_major": 2,
       "version_minor": 0
      },
      "text/plain": [
       "0it [00:00, ?it/s]"
      ]
     },
     "metadata": {},
     "output_type": "display_data"
    }
   ],
   "source": [
    "from transformers import pipeline"
   ]
  },
  {
   "cell_type": "markdown",
   "id": "39660f1c",
   "metadata": {},
   "source": [
    "# Sentiment Analysis"
   ]
  },
  {
   "cell_type": "code",
   "execution_count": 2,
   "id": "55e29f3e",
   "metadata": {},
   "outputs": [
    {
     "name": "stderr",
     "output_type": "stream",
     "text": [
      "No model was supplied, defaulted to distilbert-base-uncased-finetuned-sst-2-english and revision af0f99b (https://huggingface.co/distilbert-base-uncased-finetuned-sst-2-english).\n",
      "Using a pipeline without specifying a model name and revision in production is not recommended.\n"
     ]
    }
   ],
   "source": [
    "classifier = pipeline('sentiment-analysis')"
   ]
  },
  {
   "cell_type": "code",
   "execution_count": 3,
   "id": "929175e9",
   "metadata": {},
   "outputs": [],
   "source": [
    "text = [\n",
    "    \"Fly me to the moon, and let me play among the stars\",\n",
    "    \"April is the cruellest month, breeding Lilacs out of the dead land.\"\n",
    "]"
   ]
  },
  {
   "cell_type": "code",
   "execution_count": 4,
   "id": "47ac0ef7",
   "metadata": {},
   "outputs": [
    {
     "data": {
      "text/plain": [
       "[{'label': 'POSITIVE', 'score': 0.9996751546859741},\n",
       " {'label': 'NEGATIVE', 'score': 0.9489612579345703}]"
      ]
     },
     "execution_count": 4,
     "metadata": {},
     "output_type": "execute_result"
    }
   ],
   "source": [
    "classifier(text)"
   ]
  },
  {
   "cell_type": "markdown",
   "id": "e1676f31",
   "metadata": {},
   "source": [
    "# Zero-shot classification"
   ]
  },
  {
   "cell_type": "markdown",
   "id": "e63f621b",
   "metadata": {},
   "source": [
    "### Few-shot learning <=> zero-shot"
   ]
  },
  {
   "cell_type": "code",
   "execution_count": 5,
   "id": "710c8374",
   "metadata": {},
   "outputs": [
    {
     "name": "stderr",
     "output_type": "stream",
     "text": [
      "No model was supplied, defaulted to facebook/bart-large-mnli and revision c626438 (https://huggingface.co/facebook/bart-large-mnli).\n",
      "Using a pipeline without specifying a model name and revision in production is not recommended.\n"
     ]
    }
   ],
   "source": [
    "classifier = pipeline('zero-shot-classification')"
   ]
  },
  {
   "cell_type": "code",
   "execution_count": 6,
   "id": "eee27dfd",
   "metadata": {},
   "outputs": [],
   "source": [
    "text = [\n",
    "    \"German finance minister urges EU to rein in public spending\",\n",
    "    \"China seeks more island security pacts to boost clout in Pacific\"\n",
    "]"
   ]
  },
  {
   "cell_type": "code",
   "execution_count": 7,
   "id": "94d8f928",
   "metadata": {},
   "outputs": [
    {
     "data": {
      "text/plain": [
       "[{'sequence': 'German finance minister urges EU to rein in public spending',\n",
       "  'labels': ['europe', 'politics', 'economy', 'business', 'education', 'asia'],\n",
       "  'scores': [0.4018935263156891,\n",
       "   0.2552796006202698,\n",
       "   0.2406008243560791,\n",
       "   0.07709594815969467,\n",
       "   0.016165118664503098,\n",
       "   0.008965053595602512]},\n",
       " {'sequence': 'China seeks more island security pacts to boost clout in Pacific',\n",
       "  'labels': ['politics', 'asia', 'business', 'economy', 'europe', 'education'],\n",
       "  'scores': [0.5034072995185852,\n",
       "   0.2767115533351898,\n",
       "   0.14557377994060516,\n",
       "   0.03344782441854477,\n",
       "   0.020698733627796173,\n",
       "   0.020160792395472527]}]"
      ]
     },
     "execution_count": 7,
     "metadata": {},
     "output_type": "execute_result"
    }
   ],
   "source": [
    "classifier(\n",
    "    text,\n",
    "    candidate_labels=[\n",
    "        'education', 'politics', 'business', 'economy', 'europe', 'asia'\n",
    "    ]\n",
    ")"
   ]
  },
  {
   "cell_type": "markdown",
   "id": "5833bf2b",
   "metadata": {},
   "source": [
    "# Text Generation"
   ]
  },
  {
   "cell_type": "code",
   "execution_count": 8,
   "id": "36ef5783",
   "metadata": {},
   "outputs": [
    {
     "name": "stderr",
     "output_type": "stream",
     "text": [
      "No model was supplied, defaulted to gpt2 and revision 6c0e608 (https://huggingface.co/gpt2).\n",
      "Using a pipeline without specifying a model name and revision in production is not recommended.\n"
     ]
    }
   ],
   "source": [
    "generator = pipeline('text-generation')"
   ]
  },
  {
   "cell_type": "code",
   "execution_count": 9,
   "id": "62a7347f",
   "metadata": {},
   "outputs": [],
   "source": [
    "# \"The Myth of Sisyphus\" by Albert Camus\n",
    "text = \"There is but one truly serious philosophical problem, and that is suicide. Judging\""
   ]
  },
  {
   "cell_type": "code",
   "execution_count": 10,
   "id": "6deeee4e",
   "metadata": {},
   "outputs": [
    {
     "name": "stderr",
     "output_type": "stream",
     "text": [
      "Setting `pad_token_id` to `eos_token_id`:50256 for open-end generation.\n"
     ]
    },
    {
     "data": {
      "text/plain": [
       "[{'generated_text': \"There is but one truly serious philosophical problem, and that is suicide. Judging the value of the man who commits suicide has never been tested scientifically. Yet they consider it a sure thing that the most successful human beings, regardless of their personal skill and genius, would always do so, and in so doing, to put themselves at risk. If that is the best way for a human being to lead a great life, how far will that lead to suicide? Sooner or later, a man's best chance of success is an unlikely one, because there is no guarantee that at any time that he will achieve this. If he does, there is nothing good to do. It is a matter of choice, but I suggest the best course. I can imagine no better course than death. The choice is always in the man's life, and that is why there is no guarantee that at any time that he will be able to achieve that. I do not think that there is even a chance for either of these things, particularly when it comes to the very young man and his family members. It is impossible to know from the evidence or the facts what would constitute a sufficient risk of suicide. Only a child could escape the clutches of his parents and step up to a stage of\"}]"
      ]
     },
     "execution_count": 10,
     "metadata": {},
     "output_type": "execute_result"
    }
   ],
   "source": [
    "generator(text, max_length=256)"
   ]
  },
  {
   "cell_type": "markdown",
   "id": "74359dda",
   "metadata": {},
   "source": [
    "# Mask filling"
   ]
  },
  {
   "cell_type": "code",
   "execution_count": 11,
   "id": "fdc572da",
   "metadata": {},
   "outputs": [
    {
     "name": "stderr",
     "output_type": "stream",
     "text": [
      "No model was supplied, defaulted to distilroberta-base and revision ec58a5b (https://huggingface.co/distilroberta-base).\n",
      "Using a pipeline without specifying a model name and revision in production is not recommended.\n"
     ]
    }
   ],
   "source": [
    "unmasker = pipeline('fill-mask')"
   ]
  },
  {
   "cell_type": "code",
   "execution_count": 12,
   "id": "c59b5c3f",
   "metadata": {},
   "outputs": [],
   "source": [
    "# Billie Eilish\n",
    "text = \"So you're a <mask> guy, Like it really rough guy\""
   ]
  },
  {
   "cell_type": "code",
   "execution_count": 13,
   "id": "4651d750",
   "metadata": {},
   "outputs": [
    {
     "data": {
      "text/plain": [
       "[{'score': 0.9274507164955139,\n",
       "  'token': 6744,\n",
       "  'token_str': ' rough',\n",
       "  'sequence': \"So you're a rough guy, Like it really rough guy\"},\n",
       " {'score': 0.03052147477865219,\n",
       "  'token': 1828,\n",
       "  'token_str': ' tough',\n",
       "  'sequence': \"So you're a tough guy, Like it really rough guy\"},\n",
       " {'score': 0.0017656903946772218,\n",
       "  'token': 1099,\n",
       "  'token_str': ' bad',\n",
       "  'sequence': \"So you're a bad guy, Like it really rough guy\"},\n",
       " {'score': 0.0016831890679895878,\n",
       "  'token': 15455,\n",
       "  'token_str': ' nasty',\n",
       "  'sequence': \"So you're a nasty guy, Like it really rough guy\"},\n",
       " {'score': 0.0015438697300851345,\n",
       "  'token': 543,\n",
       "  'token_str': ' hard',\n",
       "  'sequence': \"So you're a hard guy, Like it really rough guy\"}]"
      ]
     },
     "execution_count": 13,
     "metadata": {},
     "output_type": "execute_result"
    }
   ],
   "source": [
    "unmasker(text)"
   ]
  },
  {
   "cell_type": "markdown",
   "id": "f0994db9",
   "metadata": {},
   "source": [
    "# NER(Named Entity Recognition)"
   ]
  },
  {
   "cell_type": "code",
   "execution_count": 14,
   "id": "4c028aa4",
   "metadata": {},
   "outputs": [
    {
     "name": "stderr",
     "output_type": "stream",
     "text": [
      "No model was supplied, defaulted to dbmdz/bert-large-cased-finetuned-conll03-english and revision f2482bf (https://huggingface.co/dbmdz/bert-large-cased-finetuned-conll03-english).\n",
      "Using a pipeline without specifying a model name and revision in production is not recommended.\n"
     ]
    }
   ],
   "source": [
    "ner = pipeline('ner')"
   ]
  },
  {
   "cell_type": "code",
   "execution_count": 15,
   "id": "8acc198d",
   "metadata": {},
   "outputs": [],
   "source": [
    "text = \"Steven Paul Jobs (February 24, 1955 – October 5, 2011) was an American entrepreneur, inventor, business magnate, media proprietor, and investor. He was the co-founder, chairman, and CEO of Apple; the chairman and majority shareholder of Pixar; a member of The Walt Disney Company's board of directors following its acquisition of Pixar; and the founder, chairman, and CEO of NeXT. He is widely recognized as a pioneer of the personal computer revolution of the 1970s and 1980s, along with his early business partner and fellow Apple co-founder Steve Wozniak.\""
   ]
  },
  {
   "cell_type": "code",
   "execution_count": 16,
   "id": "bd9ed7c1",
   "metadata": {},
   "outputs": [
    {
     "data": {
      "text/plain": [
       "[{'entity': 'I-PER',\n",
       "  'score': 0.99945754,\n",
       "  'index': 1,\n",
       "  'word': 'Steven',\n",
       "  'start': 0,\n",
       "  'end': 6},\n",
       " {'entity': 'I-PER',\n",
       "  'score': 0.9994562,\n",
       "  'index': 2,\n",
       "  'word': 'Paul',\n",
       "  'start': 7,\n",
       "  'end': 11},\n",
       " {'entity': 'I-PER',\n",
       "  'score': 0.999501,\n",
       "  'index': 3,\n",
       "  'word': 'Job',\n",
       "  'start': 12,\n",
       "  'end': 15},\n",
       " {'entity': 'I-PER',\n",
       "  'score': 0.99722654,\n",
       "  'index': 4,\n",
       "  'word': '##s',\n",
       "  'start': 15,\n",
       "  'end': 16},\n",
       " {'entity': 'I-MISC',\n",
       "  'score': 0.996759,\n",
       "  'index': 18,\n",
       "  'word': 'American',\n",
       "  'start': 62,\n",
       "  'end': 70},\n",
       " {'entity': 'I-ORG',\n",
       "  'score': 0.9993734,\n",
       "  'index': 45,\n",
       "  'word': 'Apple',\n",
       "  'start': 189,\n",
       "  'end': 194},\n",
       " {'entity': 'I-ORG',\n",
       "  'score': 0.9989691,\n",
       "  'index': 53,\n",
       "  'word': 'Pi',\n",
       "  'start': 237,\n",
       "  'end': 239},\n",
       " {'entity': 'I-ORG',\n",
       "  'score': 0.9961754,\n",
       "  'index': 54,\n",
       "  'word': '##xa',\n",
       "  'start': 239,\n",
       "  'end': 241},\n",
       " {'entity': 'I-ORG',\n",
       "  'score': 0.9993247,\n",
       "  'index': 55,\n",
       "  'word': '##r',\n",
       "  'start': 241,\n",
       "  'end': 242},\n",
       " {'entity': 'I-ORG',\n",
       "  'score': 0.9991516,\n",
       "  'index': 60,\n",
       "  'word': 'The',\n",
       "  'start': 256,\n",
       "  'end': 259},\n",
       " {'entity': 'I-ORG',\n",
       "  'score': 0.9995415,\n",
       "  'index': 61,\n",
       "  'word': 'Walt',\n",
       "  'start': 260,\n",
       "  'end': 264},\n",
       " {'entity': 'I-ORG',\n",
       "  'score': 0.99930453,\n",
       "  'index': 62,\n",
       "  'word': 'Disney',\n",
       "  'start': 265,\n",
       "  'end': 271},\n",
       " {'entity': 'I-ORG',\n",
       "  'score': 0.99911934,\n",
       "  'index': 63,\n",
       "  'word': 'Company',\n",
       "  'start': 272,\n",
       "  'end': 279},\n",
       " {'entity': 'I-ORG',\n",
       "  'score': 0.99833447,\n",
       "  'index': 73,\n",
       "  'word': 'Pi',\n",
       "  'start': 330,\n",
       "  'end': 332},\n",
       " {'entity': 'I-ORG',\n",
       "  'score': 0.9955432,\n",
       "  'index': 74,\n",
       "  'word': '##xa',\n",
       "  'start': 332,\n",
       "  'end': 334},\n",
       " {'entity': 'I-ORG',\n",
       "  'score': 0.9990802,\n",
       "  'index': 75,\n",
       "  'word': '##r',\n",
       "  'start': 334,\n",
       "  'end': 335},\n",
       " {'entity': 'I-ORG',\n",
       "  'score': 0.99892163,\n",
       "  'index': 86,\n",
       "  'word': 'N',\n",
       "  'start': 375,\n",
       "  'end': 376},\n",
       " {'entity': 'I-ORG',\n",
       "  'score': 0.9892463,\n",
       "  'index': 87,\n",
       "  'word': '##e',\n",
       "  'start': 376,\n",
       "  'end': 377},\n",
       " {'entity': 'I-ORG',\n",
       "  'score': 0.9980622,\n",
       "  'index': 88,\n",
       "  'word': '##XT',\n",
       "  'start': 377,\n",
       "  'end': 379},\n",
       " {'entity': 'I-ORG',\n",
       "  'score': 0.99610436,\n",
       "  'index': 116,\n",
       "  'word': 'Apple',\n",
       "  'start': 527,\n",
       "  'end': 532},\n",
       " {'entity': 'I-PER',\n",
       "  'score': 0.99932516,\n",
       "  'index': 120,\n",
       "  'word': 'Steve',\n",
       "  'start': 544,\n",
       "  'end': 549},\n",
       " {'entity': 'I-PER',\n",
       "  'score': 0.99936014,\n",
       "  'index': 121,\n",
       "  'word': 'W',\n",
       "  'start': 550,\n",
       "  'end': 551},\n",
       " {'entity': 'I-PER',\n",
       "  'score': 0.84747404,\n",
       "  'index': 122,\n",
       "  'word': '##oz',\n",
       "  'start': 551,\n",
       "  'end': 553},\n",
       " {'entity': 'I-PER',\n",
       "  'score': 0.8154645,\n",
       "  'index': 123,\n",
       "  'word': '##nia',\n",
       "  'start': 553,\n",
       "  'end': 556},\n",
       " {'entity': 'I-PER',\n",
       "  'score': 0.9925479,\n",
       "  'index': 124,\n",
       "  'word': '##k',\n",
       "  'start': 556,\n",
       "  'end': 557}]"
      ]
     },
     "execution_count": 16,
     "metadata": {},
     "output_type": "execute_result"
    }
   ],
   "source": [
    "ner(text)"
   ]
  },
  {
   "cell_type": "markdown",
   "id": "039ae56c",
   "metadata": {},
   "source": [
    "# Question answering"
   ]
  },
  {
   "cell_type": "code",
   "execution_count": 17,
   "id": "3b9be12a",
   "metadata": {},
   "outputs": [
    {
     "name": "stderr",
     "output_type": "stream",
     "text": [
      "No model was supplied, defaulted to distilbert-base-cased-distilled-squad and revision 626af31 (https://huggingface.co/distilbert-base-cased-distilled-squad).\n",
      "Using a pipeline without specifying a model name and revision in production is not recommended.\n"
     ]
    }
   ],
   "source": [
    "qa = pipeline('question-answering')"
   ]
  },
  {
   "cell_type": "code",
   "execution_count": 18,
   "id": "a77d7659",
   "metadata": {},
   "outputs": [
    {
     "data": {
      "text/plain": [
       "{'score': 0.2442311942577362, 'start': 189, 'end': 194, 'answer': 'Apple'}"
      ]
     },
     "execution_count": 18,
     "metadata": {},
     "output_type": "execute_result"
    }
   ],
   "source": [
    "qa(\n",
    "    context=text,\n",
    "    question='Which companies are founded by steve jobs?'\n",
    ")"
   ]
  },
  {
   "cell_type": "markdown",
   "id": "bcc4346c",
   "metadata": {},
   "source": [
    "# Summarizaion"
   ]
  },
  {
   "cell_type": "code",
   "execution_count": 19,
   "id": "214d3f6c",
   "metadata": {},
   "outputs": [
    {
     "name": "stderr",
     "output_type": "stream",
     "text": [
      "No model was supplied, defaulted to sshleifer/distilbart-cnn-12-6 and revision a4f8f3e (https://huggingface.co/sshleifer/distilbart-cnn-12-6).\n",
      "Using a pipeline without specifying a model name and revision in production is not recommended.\n"
     ]
    }
   ],
   "source": [
    "summarizer = pipeline('summarization')"
   ]
  },
  {
   "cell_type": "code",
   "execution_count": 20,
   "id": "f98f3918",
   "metadata": {},
   "outputs": [
    {
     "data": {
      "text/plain": [
       "[{'summary_text': \" Steven Paul Jobs was the co-founder, chairman, and CEO of Apple . He is widely recognized as a pioneer of the personal computer revolution of the 1970s and 1980s, along with his early business partner Steve Wozniak . He was a member of The Walt Disney Company's board of directors\"}]"
      ]
     },
     "execution_count": 20,
     "metadata": {},
     "output_type": "execute_result"
    }
   ],
   "source": [
    "summarizer(text, max_length=64)"
   ]
  },
  {
   "cell_type": "markdown",
   "id": "e42a385e",
   "metadata": {},
   "source": [
    "# Translation"
   ]
  },
  {
   "cell_type": "code",
   "execution_count": 21,
   "id": "32ba7f17",
   "metadata": {},
   "outputs": [
    {
     "data": {
      "application/vnd.jupyter.widget-view+json": {
       "model_id": "51f82ae1cb3045d3b4dc654a6f89fa37",
       "version_major": 2,
       "version_minor": 0
      },
      "text/plain": [
       "Downloading:   0%|          | 0.00/778k [00:00<?, ?B/s]"
      ]
     },
     "metadata": {},
     "output_type": "display_data"
    },
    {
     "data": {
      "application/vnd.jupyter.widget-view+json": {
       "model_id": "718bbad94e55416bb255213783ec5031",
       "version_major": 2,
       "version_minor": 0
      },
      "text/plain": [
       "Downloading:   0%|          | 0.00/802k [00:00<?, ?B/s]"
      ]
     },
     "metadata": {},
     "output_type": "display_data"
    },
    {
     "data": {
      "application/vnd.jupyter.widget-view+json": {
       "model_id": "3debd9b0e36946168a2baba609fc6609",
       "version_major": 2,
       "version_minor": 0
      },
      "text/plain": [
       "Downloading:   0%|          | 0.00/1.34M [00:00<?, ?B/s]"
      ]
     },
     "metadata": {},
     "output_type": "display_data"
    },
    {
     "name": "stderr",
     "output_type": "stream",
     "text": [
      "/opt/homebrew/lib/python3.9/site-packages/transformers/models/marian/tokenization_marian.py:194: UserWarning: Recommended: pip install sacremoses.\n",
      "  warnings.warn(\"Recommended: pip install sacremoses.\")\n"
     ]
    }
   ],
   "source": [
    "translator = pipeline('translation', model='Helsinki-NLP/opus-mt-en-fr')"
   ]
  },
  {
   "cell_type": "code",
   "execution_count": 22,
   "id": "d91ffed1",
   "metadata": {},
   "outputs": [
    {
     "data": {
      "text/plain": [
       "[{'translation_text': 'Bonjour Jieun'}]"
      ]
     },
     "execution_count": 22,
     "metadata": {},
     "output_type": "execute_result"
    }
   ],
   "source": [
    "translator(\"Hello Jieun\")"
   ]
  },
  {
   "cell_type": "code",
   "execution_count": 23,
   "id": "691f4b44",
   "metadata": {},
   "outputs": [
    {
     "data": {
      "text/plain": [
       "[{'translation_text': \"Steven Paul Jobs (24 février 1955 – 5 octobre 2011) était un entrepreneur américain, inventeur, magnat des affaires, propriétaire de médias et investisseur. Il était le cofondateur, président et directeur général d'Apple; le président et actionnaire majoritaire de Pixar; un membre du conseil d'administration de la Walt Disney Company suite à son acquisition de Pixar; et le fondateur, président et chef de la direction de NeXT. Il est largement reconnu comme un pionnier de la révolution informatique personnelle des années 1970 et 1980, ainsi que son premier associé et cofondateur d'Apple Steve Wozniak.\"}]"
      ]
     },
     "execution_count": 23,
     "metadata": {},
     "output_type": "execute_result"
    }
   ],
   "source": [
    "translator(text)"
   ]
  },
  {
   "cell_type": "code",
   "execution_count": 24,
   "id": "99aa0c80",
   "metadata": {},
   "outputs": [
    {
     "data": {
      "application/vnd.jupyter.widget-view+json": {
       "model_id": "a46203d0c0f64b089b7db387da160cb5",
       "version_major": 2,
       "version_minor": 0
      },
      "text/plain": [
       "Downloading:   0%|          | 0.00/1.39k [00:00<?, ?B/s]"
      ]
     },
     "metadata": {},
     "output_type": "display_data"
    },
    {
     "data": {
      "application/vnd.jupyter.widget-view+json": {
       "model_id": "681bed027fd245f7beb7ea340f086001",
       "version_major": 2,
       "version_minor": 0
      },
      "text/plain": [
       "Downloading:   0%|          | 0.00/312M [00:00<?, ?B/s]"
      ]
     },
     "metadata": {},
     "output_type": "display_data"
    },
    {
     "data": {
      "application/vnd.jupyter.widget-view+json": {
       "model_id": "12e61dacaa4748d3907aa112753dd892",
       "version_major": 2,
       "version_minor": 0
      },
      "text/plain": [
       "Downloading:   0%|          | 0.00/44.0 [00:00<?, ?B/s]"
      ]
     },
     "metadata": {},
     "output_type": "display_data"
    },
    {
     "data": {
      "application/vnd.jupyter.widget-view+json": {
       "model_id": "372d6a4edca7414dae7d6e6c779c11d6",
       "version_major": 2,
       "version_minor": 0
      },
      "text/plain": [
       "Downloading:   0%|          | 0.00/842k [00:00<?, ?B/s]"
      ]
     },
     "metadata": {},
     "output_type": "display_data"
    },
    {
     "data": {
      "application/vnd.jupyter.widget-view+json": {
       "model_id": "b555f1c6bf4341869f321aa80bf8cdca",
       "version_major": 2,
       "version_minor": 0
      },
      "text/plain": [
       "Downloading:   0%|          | 0.00/813k [00:00<?, ?B/s]"
      ]
     },
     "metadata": {},
     "output_type": "display_data"
    },
    {
     "data": {
      "application/vnd.jupyter.widget-view+json": {
       "model_id": "3e1d78068ed34f94a821ccfaf8764a3b",
       "version_major": 2,
       "version_minor": 0
      },
      "text/plain": [
       "Downloading:   0%|          | 0.00/1.72M [00:00<?, ?B/s]"
      ]
     },
     "metadata": {},
     "output_type": "display_data"
    }
   ],
   "source": [
    "translator = pipeline('translation', model='Helsinki-NLP/opus-mt-ko-en')"
   ]
  },
  {
   "cell_type": "code",
   "execution_count": 25,
   "id": "c91db5da",
   "metadata": {},
   "outputs": [],
   "source": [
    "text = \"한국산 가상화폐 루나와 테라USD(UST) 폭락으로 손실을 본 투자자들이 발행사 테라폼랩스의 권도형 최고경영자(CEO)를 고소했다.\""
   ]
  },
  {
   "cell_type": "code",
   "execution_count": 26,
   "id": "e575f026",
   "metadata": {},
   "outputs": [
    {
     "data": {
      "text/plain": [
       "[{'translation_text': \"After losing a Korean virtual currency, Luna turusD (UST), investors filed charges against CEO's high-powered top manager for the launch service terafos.\"}]"
      ]
     },
     "execution_count": 26,
     "metadata": {},
     "output_type": "execute_result"
    }
   ],
   "source": [
    "translator(text)"
   ]
  },
  {
   "cell_type": "markdown",
   "id": "6425067f",
   "metadata": {},
   "source": [
    "# Sentiment Analysis - Korean"
   ]
  },
  {
   "cell_type": "code",
   "execution_count": 27,
   "id": "c1025734",
   "metadata": {},
   "outputs": [
    {
     "data": {
      "application/vnd.jupyter.widget-view+json": {
       "model_id": "93cb9c128d05436da81ef5bf04f0bca4",
       "version_major": 2,
       "version_minor": 0
      },
      "text/plain": [
       "Downloading:   0%|          | 0.00/881 [00:00<?, ?B/s]"
      ]
     },
     "metadata": {},
     "output_type": "display_data"
    },
    {
     "data": {
      "application/vnd.jupyter.widget-view+json": {
       "model_id": "dae506ee42d8451c92cd6252ff08165a",
       "version_major": 2,
       "version_minor": 0
      },
      "text/plain": [
       "Downloading:   0%|          | 0.00/406M [00:00<?, ?B/s]"
      ]
     },
     "metadata": {},
     "output_type": "display_data"
    },
    {
     "data": {
      "application/vnd.jupyter.widget-view+json": {
       "model_id": "c372f5c0d0cb41fb9e64679abd9a013f",
       "version_major": 2,
       "version_minor": 0
      },
      "text/plain": [
       "Downloading:   0%|          | 0.00/372 [00:00<?, ?B/s]"
      ]
     },
     "metadata": {},
     "output_type": "display_data"
    },
    {
     "data": {
      "application/vnd.jupyter.widget-view+json": {
       "model_id": "ec42a45ee59148699d959b46869c6f17",
       "version_major": 2,
       "version_minor": 0
      },
      "text/plain": [
       "Downloading:   0%|          | 0.00/143k [00:00<?, ?B/s]"
      ]
     },
     "metadata": {},
     "output_type": "display_data"
    },
    {
     "data": {
      "application/vnd.jupyter.widget-view+json": {
       "model_id": "43c48039fb324a999b6e70de9aaa8a91",
       "version_major": 2,
       "version_minor": 0
      },
      "text/plain": [
       "Downloading:   0%|          | 0.00/294k [00:00<?, ?B/s]"
      ]
     },
     "metadata": {},
     "output_type": "display_data"
    },
    {
     "data": {
      "application/vnd.jupyter.widget-view+json": {
       "model_id": "e5138a4b7d324df0b6a9f5676b97e94e",
       "version_major": 2,
       "version_minor": 0
      },
      "text/plain": [
       "Downloading:   0%|          | 0.00/112 [00:00<?, ?B/s]"
      ]
     },
     "metadata": {},
     "output_type": "display_data"
    }
   ],
   "source": [
    "classifier = pipeline('sentiment-analysis', model='snunlp/KR-FinBert-SC')"
   ]
  },
  {
   "cell_type": "code",
   "execution_count": 28,
   "id": "1f477a9e",
   "metadata": {},
   "outputs": [],
   "source": [
    "text = [\n",
    "    \"한국산 가상화폐 루나와 테라USD(UST) 폭락으로 손실을 본 투자자들이 발행사 테라폼랩스의 권도형 최고경영자(CEO)를 고소했다.\",\n",
    "    \"외국인, 올해 국내 주식 15조 원 순매도…삼성만 5조 원 팔았다\",\n",
    "    \"尹, 탈원전 정상화 추진 “원전 수출 증진 위해 韓美 노력”\",\n",
    "]"
   ]
  },
  {
   "cell_type": "code",
   "execution_count": 29,
   "id": "ec322afd",
   "metadata": {},
   "outputs": [
    {
     "data": {
      "text/plain": [
       "[{'label': 'negative', 'score': 0.9798452258110046},\n",
       " {'label': 'negative', 'score': 0.9699411988258362},\n",
       " {'label': 'positive', 'score': 0.995445728302002}]"
      ]
     },
     "execution_count": 29,
     "metadata": {},
     "output_type": "execute_result"
    }
   ],
   "source": [
    "classifier(text)"
   ]
  },
  {
   "cell_type": "code",
   "execution_count": null,
   "id": "bd0cfb36",
   "metadata": {},
   "outputs": [],
   "source": []
  },
  {
   "cell_type": "code",
   "execution_count": null,
   "id": "30a093af",
   "metadata": {},
   "outputs": [],
   "source": []
  },
  {
   "cell_type": "code",
   "execution_count": null,
   "id": "76f3bad0",
   "metadata": {},
   "outputs": [],
   "source": []
  }
 ],
 "metadata": {
  "kernelspec": {
   "display_name": "Python 3 (ipykernel)",
   "language": "python",
   "name": "python3"
  },
  "language_info": {
   "codemirror_mode": {
    "name": "ipython",
    "version": 3
   },
   "file_extension": ".py",
   "mimetype": "text/x-python",
   "name": "python",
   "nbconvert_exporter": "python",
   "pygments_lexer": "ipython3",
   "version": "3.9.14"
  }
 },
 "nbformat": 4,
 "nbformat_minor": 5
}
