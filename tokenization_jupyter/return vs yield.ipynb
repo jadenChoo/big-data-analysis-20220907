{
 "cells": [
  {
   "cell_type": "markdown",
   "id": "19a9e1ec",
   "metadata": {},
   "source": [
    "# return vs yield"
   ]
  },
  {
   "cell_type": "markdown",
   "id": "d50d17ca",
   "metadata": {},
   "source": [
    "추준호(20224224)"
   ]
  },
  {
   "cell_type": "code",
   "execution_count": 7,
   "id": "ab57ade3",
   "metadata": {},
   "outputs": [],
   "source": [
    "def fun1():\n",
    "    buffer = []\n",
    "    \n",
    "    for i in range(3):\n",
    "        print('hello')\n",
    "        buffer.append(i)\n",
    "        \n",
    "    return buffer"
   ]
  },
  {
   "cell_type": "code",
   "execution_count": 8,
   "id": "a1704896",
   "metadata": {},
   "outputs": [
    {
     "name": "stdout",
     "output_type": "stream",
     "text": [
      "hello\n",
      "hello\n",
      "hello\n",
      "0\n",
      "1\n",
      "2\n"
     ]
    }
   ],
   "source": [
    "for x in fun1():\n",
    "    print(x)"
   ]
  },
  {
   "cell_type": "markdown",
   "id": "722ca240",
   "metadata": {},
   "source": [
    "## Generator - lazy evaluation"
   ]
  },
  {
   "cell_type": "code",
   "execution_count": 9,
   "id": "2773b282",
   "metadata": {},
   "outputs": [],
   "source": [
    "def fun2():\n",
    "    for i in range(3):\n",
    "        print('hello')\n",
    "        yield i"
   ]
  },
  {
   "cell_type": "code",
   "execution_count": 11,
   "id": "4caef0bd",
   "metadata": {},
   "outputs": [
    {
     "data": {
      "text/plain": [
       "<generator object fun2 at 0x10409ca50>"
      ]
     },
     "execution_count": 11,
     "metadata": {},
     "output_type": "execute_result"
    }
   ],
   "source": [
    "fun2()"
   ]
  },
  {
   "cell_type": "code",
   "execution_count": 10,
   "id": "954ceca6",
   "metadata": {},
   "outputs": [
    {
     "name": "stdout",
     "output_type": "stream",
     "text": [
      "hello\n",
      "0\n",
      "hello\n",
      "1\n",
      "hello\n",
      "2\n"
     ]
    }
   ],
   "source": [
    "for x in fun2():\n",
    "    print(x)"
   ]
  },
  {
   "cell_type": "code",
   "execution_count": null,
   "id": "1e98ca2c",
   "metadata": {},
   "outputs": [],
   "source": []
  },
  {
   "cell_type": "code",
   "execution_count": null,
   "id": "a10f7135",
   "metadata": {},
   "outputs": [],
   "source": []
  },
  {
   "cell_type": "code",
   "execution_count": null,
   "id": "9a53c7ab",
   "metadata": {},
   "outputs": [],
   "source": []
  }
 ],
 "metadata": {
  "kernelspec": {
   "display_name": "Python 3 (ipykernel)",
   "language": "python",
   "name": "python3"
  },
  "language_info": {
   "codemirror_mode": {
    "name": "ipython",
    "version": 3
   },
   "file_extension": ".py",
   "mimetype": "text/x-python",
   "name": "python",
   "nbconvert_exporter": "python",
   "pygments_lexer": "ipython3",
   "version": "3.9.14"
  }
 },
 "nbformat": 4,
 "nbformat_minor": 5
}
